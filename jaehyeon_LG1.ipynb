{
 "cells": [
  {
   "cell_type": "code",
   "execution_count": 294,
   "id": "1ef7e926-699f-4f11-b224-5bdfddf3f28f",
   "metadata": {},
   "outputs": [],
   "source": [
    "import pandas as pd"
   ]
  },
  {
   "cell_type": "code",
   "execution_count": 342,
   "id": "100a0e2c-8892-4b2d-afb0-4348f49aded0",
   "metadata": {},
   "outputs": [
    {
     "name": "stderr",
     "output_type": "stream",
     "text": [
      "/var/folders/t0/gccsxj_j0nggb15blb8q8h900000gn/T/ipykernel_10391/856940257.py:1: DtypeWarning: Columns (6,7,9,29,31,32,43,48,49,50,51,52,53,54,59,60,77,83,89,90,91,92) have mixed types. Specify dtype option on import or set low_memory=False.\n",
      "  df = pd.read_csv(\"2010-2016.csv\")\n"
     ]
    }
   ],
   "source": [
    "df = pd.read_csv(\"2010-2016.csv\")"
   ]
  },
  {
   "cell_type": "code",
   "execution_count": 343,
   "id": "ce9ce77c-0276-4961-8af9-c10657d8bf5e",
   "metadata": {},
   "outputs": [
    {
     "data": {
      "text/plain": [
       "(495628, 95)"
      ]
     },
     "execution_count": 343,
     "metadata": {},
     "output_type": "execute_result"
    }
   ],
   "source": [
    "df.shape"
   ]
  },
  {
   "cell_type": "code",
   "execution_count": 288,
   "id": "f4679d2a-16a1-413b-b0b7-2961cdfa82e8",
   "metadata": {},
   "outputs": [],
   "source": [
    "df= df[df['PG'] != 1.]"
   ]
  },
  {
   "cell_type": "code",
   "execution_count": 482,
   "id": "917a73c5-1f91-405e-8118-139607eeece5",
   "metadata": {},
   "outputs": [
    {
     "data": {
      "text/plain": [
       "array(['None ', nan, 'Biochemical Pregnancy Only ',\n",
       "       'Intrauterine Fetal Pulsation Seen ', 'Misscarriage ',\n",
       "       'Misscarriage ,Intrauterine Fetal Pulsation Seen ', 'Ectopic ',\n",
       "       'Hetrotopic ', 'Hetrotopic ,Intrauterine Fetal Pulsation Seen ',\n",
       "       'None ,Misscarriage ', 'Ectopic ,Hetrotopic ',\n",
       "       'Biochemical Pregnancy Only ,Intrauterine Fetal Pulsation Seen ',\n",
       "       'None ,Ectopic ', 'Molar ', 'None ,Biochemical Pregnancy Only ',\n",
       "       'None ,Intrauterine Fetal Pulsation Seen ',\n",
       "       'Biochemical Pregnancy Only ,Misscarriage ',\n",
       "       'Molar ,Intrauterine Fetal Pulsation Seen ', 'None ,Molar ',\n",
       "       'Ectopic ,Intrauterine Fetal Pulsation Seen ',\n",
       "       'Biochemical Pregnancy Only ,Ectopic ', 'Misscarriage ,Ectopic '],\n",
       "      dtype=object)"
      ]
     },
     "execution_count": 482,
     "metadata": {},
     "output_type": "execute_result"
    }
   ],
   "source": [
    "df['Early Outcome'].unique()"
   ]
  },
  {
   "cell_type": "code",
   "execution_count": 436,
   "id": "0a4a3069-1d80-45e3-ba9d-01822303ec4e",
   "metadata": {},
   "outputs": [],
   "source": [
    "df = df[df['Total number of DI pregnancies'] == 0]"
   ]
  },
  {
   "cell_type": "code",
   "execution_count": 452,
   "id": "f5043f5b-291b-4308-bb50-2a91a3fab17b",
   "metadata": {},
   "outputs": [
    {
     "data": {
      "text/plain": [
       "(198604, 95)"
      ]
     },
     "execution_count": 452,
     "metadata": {},
     "output_type": "execute_result"
    }
   ],
   "source": [
    "df.shape"
   ]
  },
  {
   "cell_type": "code",
   "execution_count": 462,
   "id": "64809fca-1c2c-44dd-b7ce-9e80b561aadd",
   "metadata": {},
   "outputs": [],
   "source": [
    "df['Live Birth Occurrence'] = df['Live Birth Occurrence'].fillna(0)"
   ]
  },
  {
   "cell_type": "code",
   "execution_count": 497,
   "id": "5ac4a0cc-09bc-4de7-9c29-dd04f1763d80",
   "metadata": {},
   "outputs": [],
   "source": [
    "\n",
    "\n",
    "columns_to_drop = [\n",
    "    'Total number of DI pregnancies',\n",
    "    'Total number of live births - conceived through IVF or DI',\n",
    "    'Total number of live births - conceived through DI',\n",
    "    'Total Number of Previous DI cycles',\n",
    "    'Total number of previous pregnancies, Both IVF and DI',\n",
    "    'Date patient started trying to become pregnant OR date of last pregnancy',\n",
    "    'Total Number of Previous cycles, Both IVF and DI',\n",
    "    'Total Number of Previous treatments, Both IVF and DI at clinic'\n",
    "]\n",
    "\n",
    "\n",
    "df.drop(columns=columns_to_drop, inplace=True)"
   ]
  },
  {
   "cell_type": "code",
   "execution_count": 499,
   "id": "91efee5e-daa1-4036-aef3-94db277e8040",
   "metadata": {},
   "outputs": [
    {
     "name": "stdout",
     "output_type": "stream",
     "text": [
      "<class 'pandas.core.frame.DataFrame'>\n",
      "Index: 198604 entries, 1 to 481984\n",
      "Data columns (total 31 columns):\n",
      " #   Column                                                       Non-Null Count   Dtype  \n",
      "---  ------                                                       --------------   -----  \n",
      " 0   Patient Age at Treatment                                     198604 non-null  object \n",
      " 1   Total Number of Previous IVF cycles                          198604 non-null  object \n",
      " 2   Total number of IVF pregnancies                              198604 non-null  object \n",
      " 3   Total number of live births - conceived through IVF          198604 non-null  int64  \n",
      " 4   Type of Infertility - Female Primary                         198604 non-null  int64  \n",
      " 5   Type of Infertility - Female Secondary                       198604 non-null  int64  \n",
      " 6   Type of Infertility - Male Primary                           198604 non-null  int64  \n",
      " 7   Type of Infertility - Male Secondary                         198604 non-null  int64  \n",
      " 8   Type of Infertility -Couple Primary                          198604 non-null  int64  \n",
      " 9   Type of Infertility -Couple Secondary                        198604 non-null  int64  \n",
      " 10  Cause  of Infertility - Tubal disease                        198604 non-null  int64  \n",
      " 11  Cause of Infertility - Ovulatory Disorder                    198604 non-null  int64  \n",
      " 12  Cause of Infertility - Male Factor                           198604 non-null  int64  \n",
      " 13  Cause of Infertility - Patient Unexplained                   198604 non-null  int64  \n",
      " 14  Cause of Infertility - Endometriosis                         198604 non-null  int64  \n",
      " 15  Cause of Infertility - Cervical factors                      198604 non-null  int64  \n",
      " 16  Cause of Infertility - Female Factors                        198604 non-null  int64  \n",
      " 17  Cause of Infertility - Partner Sperm Concentration           198604 non-null  int64  \n",
      " 18  Cause of Infertility -  Partner Sperm Morphology             198604 non-null  int64  \n",
      " 19  Causes of Infertility - Partner Sperm Motility               198604 non-null  int64  \n",
      " 20  Cause of Infertility -  Partner Sperm Immunological factors  198604 non-null  int64  \n",
      " 21  Stimulation used                                             198604 non-null  int64  \n",
      " 22  Egg Source                                                   198604 non-null  object \n",
      " 23  Sperm From                                                   198604 non-null  object \n",
      " 24  Fresh Cycle                                                  198604 non-null  float64\n",
      " 25  Frozen Cycle                                                 198604 non-null  float64\n",
      " 26  Eggs Thawed                                                  198604 non-null  float64\n",
      " 27  Fresh Eggs Collected                                         198604 non-null  object \n",
      " 28  Eggs Mixed With Partner Sperm                                198604 non-null  object \n",
      " 29  Embryos Transfered                                           198604 non-null  float64\n",
      " 30  Live Birth Occurrence                                        198604 non-null  float64\n",
      "dtypes: float64(5), int64(19), object(7)\n",
      "memory usage: 48.5+ MB\n"
     ]
    }
   ],
   "source": [
    "df.info()"
   ]
  },
  {
   "cell_type": "code",
   "execution_count": null,
   "id": "ebc58ad1-9e25-41d6-8c36-b917b900e392",
   "metadata": {},
   "outputs": [],
   "source": []
  },
  {
   "cell_type": "code",
   "execution_count": 505,
   "id": "82480a7a-9171-4b05-98a0-48a5f67d5a73",
   "metadata": {},
   "outputs": [],
   "source": [
    "b = df.copy()"
   ]
  },
  {
   "cell_type": "code",
   "execution_count": 507,
   "id": "673e1695-d048-4e18-aa6d-e63d52c46fac",
   "metadata": {},
   "outputs": [
    {
     "data": {
      "text/plain": [
       "(198604, 31)"
      ]
     },
     "execution_count": 507,
     "metadata": {},
     "output_type": "execute_result"
    }
   ],
   "source": [
    "b.shape #백업"
   ]
  },
  {
   "cell_type": "code",
   "execution_count": 630,
   "id": "dfae6d39-0fe6-4c34-8250-45fc350d082b",
   "metadata": {},
   "outputs": [],
   "source": []
  },
  {
   "cell_type": "code",
   "execution_count": 626,
   "id": "f3fcfb85-2e9d-4a65-846a-f04ae9841b18",
   "metadata": {},
   "outputs": [],
   "source": [
    "\n",
    "# 나이 범위 문자열에 따라 숫자로 변환하는 함수 정의\n",
    "def convert_age(age):\n",
    "    if age == '18-34':\n",
    "        return 0\n",
    "    elif age == '35-37':\n",
    "        return 1\n",
    "    elif age == '38 - 39':\n",
    "        return 2\n",
    "    elif age == '40-42':\n",
    "        return 3\n",
    "    elif age == '43-44':\n",
    "        return 4\n",
    "    elif age == '45-50':\n",
    "        return 5\n",
    "    else:\n",
    "        return 999  # 범위 밖의 나이는 None으로 처리\n",
    "\n",
    "# 'Patient Age at Treatment' 열을 변환\n",
    "df['Patient Age at Treatment'] = df['Patient Age at Treatment'].apply(convert_age)\n"
   ]
  },
  {
   "cell_type": "code",
   "execution_count": 622,
   "id": "c26cbea3-b3c3-4a74-abd2-81050ee2142f",
   "metadata": {},
   "outputs": [],
   "source": [
    "df['Patient ID'] = range(0, len(df))\n",
    "\n",
    "# 'Patient ID' 열을 데이터프레임의 첫 번째 열로 이동\n",
    "df = df[['Patient ID'] + [col for col in df.columns if col != 'Patient ID']]\n",
    "\n",
    "\n"
   ]
  },
  {
   "cell_type": "code",
   "execution_count": 517,
   "id": "53db47aa-9469-4690-8e28-80882acd81ff",
   "metadata": {},
   "outputs": [
    {
     "data": {
      "text/html": [
       "<div>\n",
       "<style scoped>\n",
       "    .dataframe tbody tr th:only-of-type {\n",
       "        vertical-align: middle;\n",
       "    }\n",
       "\n",
       "    .dataframe tbody tr th {\n",
       "        vertical-align: top;\n",
       "    }\n",
       "\n",
       "    .dataframe thead th {\n",
       "        text-align: right;\n",
       "    }\n",
       "</style>\n",
       "<table border=\"1\" class=\"dataframe\">\n",
       "  <thead>\n",
       "    <tr style=\"text-align: right;\">\n",
       "      <th></th>\n",
       "      <th>Patient Age at Treatment</th>\n",
       "      <th>Total Number of Previous IVF cycles</th>\n",
       "      <th>Total number of IVF pregnancies</th>\n",
       "      <th>Total number of live births - conceived through IVF</th>\n",
       "      <th>Type of Infertility - Female Primary</th>\n",
       "      <th>Type of Infertility - Female Secondary</th>\n",
       "      <th>Type of Infertility - Male Primary</th>\n",
       "      <th>Type of Infertility - Male Secondary</th>\n",
       "      <th>Type of Infertility -Couple Primary</th>\n",
       "      <th>Type of Infertility -Couple Secondary</th>\n",
       "      <th>...</th>\n",
       "      <th>Stimulation used</th>\n",
       "      <th>Egg Source</th>\n",
       "      <th>Sperm From</th>\n",
       "      <th>Fresh Cycle</th>\n",
       "      <th>Frozen Cycle</th>\n",
       "      <th>Eggs Thawed</th>\n",
       "      <th>Fresh Eggs Collected</th>\n",
       "      <th>Eggs Mixed With Partner Sperm</th>\n",
       "      <th>Embryos Transfered</th>\n",
       "      <th>Live Birth Occurrence</th>\n",
       "    </tr>\n",
       "  </thead>\n",
       "  <tbody>\n",
       "    <tr>\n",
       "      <th>1</th>\n",
       "      <td>45-50</td>\n",
       "      <td>3</td>\n",
       "      <td>0</td>\n",
       "      <td>0</td>\n",
       "      <td>0</td>\n",
       "      <td>0</td>\n",
       "      <td>0</td>\n",
       "      <td>0</td>\n",
       "      <td>0</td>\n",
       "      <td>0</td>\n",
       "      <td>...</td>\n",
       "      <td>1</td>\n",
       "      <td>Patient</td>\n",
       "      <td>Partner</td>\n",
       "      <td>1.0</td>\n",
       "      <td>0.0</td>\n",
       "      <td>0.0</td>\n",
       "      <td>4</td>\n",
       "      <td>3</td>\n",
       "      <td>2.0</td>\n",
       "      <td>0.0</td>\n",
       "    </tr>\n",
       "    <tr>\n",
       "      <th>2</th>\n",
       "      <td>35-37</td>\n",
       "      <td>0</td>\n",
       "      <td>0</td>\n",
       "      <td>0</td>\n",
       "      <td>0</td>\n",
       "      <td>0</td>\n",
       "      <td>0</td>\n",
       "      <td>0</td>\n",
       "      <td>0</td>\n",
       "      <td>0</td>\n",
       "      <td>...</td>\n",
       "      <td>1</td>\n",
       "      <td>Patient</td>\n",
       "      <td>Partner</td>\n",
       "      <td>1.0</td>\n",
       "      <td>0.0</td>\n",
       "      <td>0.0</td>\n",
       "      <td>12</td>\n",
       "      <td>0</td>\n",
       "      <td>0.0</td>\n",
       "      <td>0.0</td>\n",
       "    </tr>\n",
       "    <tr>\n",
       "      <th>8</th>\n",
       "      <td>18 - 34</td>\n",
       "      <td>3</td>\n",
       "      <td>0</td>\n",
       "      <td>0</td>\n",
       "      <td>0</td>\n",
       "      <td>0</td>\n",
       "      <td>0</td>\n",
       "      <td>0</td>\n",
       "      <td>0</td>\n",
       "      <td>0</td>\n",
       "      <td>...</td>\n",
       "      <td>1</td>\n",
       "      <td>Patient</td>\n",
       "      <td>Partner</td>\n",
       "      <td>1.0</td>\n",
       "      <td>0.0</td>\n",
       "      <td>0.0</td>\n",
       "      <td>31</td>\n",
       "      <td>13</td>\n",
       "      <td>0.0</td>\n",
       "      <td>0.0</td>\n",
       "    </tr>\n",
       "    <tr>\n",
       "      <th>14</th>\n",
       "      <td>18 - 34</td>\n",
       "      <td>0</td>\n",
       "      <td>0</td>\n",
       "      <td>0</td>\n",
       "      <td>0</td>\n",
       "      <td>0</td>\n",
       "      <td>0</td>\n",
       "      <td>0</td>\n",
       "      <td>0</td>\n",
       "      <td>0</td>\n",
       "      <td>...</td>\n",
       "      <td>1</td>\n",
       "      <td>Patient</td>\n",
       "      <td>Partner</td>\n",
       "      <td>1.0</td>\n",
       "      <td>0.0</td>\n",
       "      <td>0.0</td>\n",
       "      <td>8</td>\n",
       "      <td>8</td>\n",
       "      <td>0.0</td>\n",
       "      <td>0.0</td>\n",
       "    </tr>\n",
       "    <tr>\n",
       "      <th>15</th>\n",
       "      <td>35-37</td>\n",
       "      <td>0</td>\n",
       "      <td>0</td>\n",
       "      <td>0</td>\n",
       "      <td>0</td>\n",
       "      <td>0</td>\n",
       "      <td>0</td>\n",
       "      <td>0</td>\n",
       "      <td>0</td>\n",
       "      <td>0</td>\n",
       "      <td>...</td>\n",
       "      <td>1</td>\n",
       "      <td>Patient</td>\n",
       "      <td>Partner</td>\n",
       "      <td>1.0</td>\n",
       "      <td>0.0</td>\n",
       "      <td>0.0</td>\n",
       "      <td>11</td>\n",
       "      <td>11</td>\n",
       "      <td>1.0</td>\n",
       "      <td>0.0</td>\n",
       "    </tr>\n",
       "  </tbody>\n",
       "</table>\n",
       "<p>5 rows × 31 columns</p>\n",
       "</div>"
      ],
      "text/plain": [
       "   Patient Age at Treatment Total Number of Previous IVF cycles  \\\n",
       "1                     45-50                                   3   \n",
       "2                     35-37                                   0   \n",
       "8                   18 - 34                                   3   \n",
       "14                  18 - 34                                   0   \n",
       "15                    35-37                                   0   \n",
       "\n",
       "   Total number of IVF pregnancies  \\\n",
       "1                                0   \n",
       "2                                0   \n",
       "8                                0   \n",
       "14                               0   \n",
       "15                               0   \n",
       "\n",
       "    Total number of live births - conceived through IVF  \\\n",
       "1                                                   0     \n",
       "2                                                   0     \n",
       "8                                                   0     \n",
       "14                                                  0     \n",
       "15                                                  0     \n",
       "\n",
       "    Type of Infertility - Female Primary  \\\n",
       "1                                      0   \n",
       "2                                      0   \n",
       "8                                      0   \n",
       "14                                     0   \n",
       "15                                     0   \n",
       "\n",
       "    Type of Infertility - Female Secondary  \\\n",
       "1                                        0   \n",
       "2                                        0   \n",
       "8                                        0   \n",
       "14                                       0   \n",
       "15                                       0   \n",
       "\n",
       "    Type of Infertility - Male Primary  Type of Infertility - Male Secondary  \\\n",
       "1                                    0                                     0   \n",
       "2                                    0                                     0   \n",
       "8                                    0                                     0   \n",
       "14                                   0                                     0   \n",
       "15                                   0                                     0   \n",
       "\n",
       "    Type of Infertility -Couple Primary  \\\n",
       "1                                     0   \n",
       "2                                     0   \n",
       "8                                     0   \n",
       "14                                    0   \n",
       "15                                    0   \n",
       "\n",
       "    Type of Infertility -Couple Secondary  ...  Stimulation used  Egg Source  \\\n",
       "1                                       0  ...                 1     Patient   \n",
       "2                                       0  ...                 1     Patient   \n",
       "8                                       0  ...                 1     Patient   \n",
       "14                                      0  ...                 1     Patient   \n",
       "15                                      0  ...                 1     Patient   \n",
       "\n",
       "    Sperm From  Fresh Cycle  Frozen Cycle  Eggs Thawed  Fresh Eggs Collected  \\\n",
       "1      Partner          1.0           0.0          0.0                     4   \n",
       "2      Partner          1.0           0.0          0.0                    12   \n",
       "8      Partner          1.0           0.0          0.0                    31   \n",
       "14     Partner          1.0           0.0          0.0                     8   \n",
       "15     Partner          1.0           0.0          0.0                    11   \n",
       "\n",
       "    Eggs Mixed With Partner Sperm  Embryos Transfered  Live Birth Occurrence  \n",
       "1                               3                 2.0                    0.0  \n",
       "2                               0                 0.0                    0.0  \n",
       "8                              13                 0.0                    0.0  \n",
       "14                              8                 0.0                    0.0  \n",
       "15                             11                 1.0                    0.0  \n",
       "\n",
       "[5 rows x 31 columns]"
      ]
     },
     "execution_count": 517,
     "metadata": {},
     "output_type": "execute_result"
    }
   ],
   "source": [
    "b.head()"
   ]
  },
  {
   "cell_type": "code",
   "execution_count": 521,
   "id": "c58f4932-158a-4ff4-bd58-6519e29c6ed8",
   "metadata": {},
   "outputs": [],
   "source": [
    "df['Patient Age at Treatment'] = df['Patient Age at Treatment'].fillna(2)"
   ]
  },
  {
   "cell_type": "code",
   "execution_count": 525,
   "id": "abcbb3b6-bcde-48be-9768-e67b5ad46a40",
   "metadata": {},
   "outputs": [
    {
     "name": "stdout",
     "output_type": "stream",
     "text": [
      "<class 'pandas.core.frame.DataFrame'>\n",
      "Index: 198604 entries, 1 to 481984\n",
      "Data columns (total 31 columns):\n",
      " #   Column                                                       Non-Null Count   Dtype  \n",
      "---  ------                                                       --------------   -----  \n",
      " 0   Patient Age at Treatment                                     198604 non-null  float64\n",
      " 1   Total Number of Previous IVF cycles                          198604 non-null  object \n",
      " 2   Total number of IVF pregnancies                              198604 non-null  object \n",
      " 3   Total number of live births - conceived through IVF          198604 non-null  int64  \n",
      " 4   Type of Infertility - Female Primary                         198604 non-null  int64  \n",
      " 5   Type of Infertility - Female Secondary                       198604 non-null  int64  \n",
      " 6   Type of Infertility - Male Primary                           198604 non-null  int64  \n",
      " 7   Type of Infertility - Male Secondary                         198604 non-null  int64  \n",
      " 8   Type of Infertility -Couple Primary                          198604 non-null  int64  \n",
      " 9   Type of Infertility -Couple Secondary                        198604 non-null  int64  \n",
      " 10  Cause  of Infertility - Tubal disease                        198604 non-null  int64  \n",
      " 11  Cause of Infertility - Ovulatory Disorder                    198604 non-null  int64  \n",
      " 12  Cause of Infertility - Male Factor                           198604 non-null  int64  \n",
      " 13  Cause of Infertility - Patient Unexplained                   198604 non-null  int64  \n",
      " 14  Cause of Infertility - Endometriosis                         198604 non-null  int64  \n",
      " 15  Cause of Infertility - Cervical factors                      198604 non-null  int64  \n",
      " 16  Cause of Infertility - Female Factors                        198604 non-null  int64  \n",
      " 17  Cause of Infertility - Partner Sperm Concentration           198604 non-null  int64  \n",
      " 18  Cause of Infertility -  Partner Sperm Morphology             198604 non-null  int64  \n",
      " 19  Causes of Infertility - Partner Sperm Motility               198604 non-null  int64  \n",
      " 20  Cause of Infertility -  Partner Sperm Immunological factors  198604 non-null  int64  \n",
      " 21  Stimulation used                                             198604 non-null  int64  \n",
      " 22  Egg Source                                                   198604 non-null  object \n",
      " 23  Sperm From                                                   198604 non-null  object \n",
      " 24  Fresh Cycle                                                  198604 non-null  float64\n",
      " 25  Frozen Cycle                                                 198604 non-null  float64\n",
      " 26  Eggs Thawed                                                  198604 non-null  float64\n",
      " 27  Fresh Eggs Collected                                         198604 non-null  object \n",
      " 28  Eggs Mixed With Partner Sperm                                198604 non-null  object \n",
      " 29  Embryos Transfered                                           198604 non-null  float64\n",
      " 30  Live Birth Occurrence                                        198604 non-null  float64\n",
      "dtypes: float64(6), int64(19), object(6)\n",
      "memory usage: 48.5+ MB\n"
     ]
    }
   ],
   "source": [
    "df.info()"
   ]
  },
  {
   "cell_type": "code",
   "execution_count": 531,
   "id": "d46e50d9-adc1-4c7a-bef3-e6442c94825c",
   "metadata": {},
   "outputs": [
    {
     "data": {
      "text/html": [
       "        <script type=\"text/javascript\">\n",
       "        window.PlotlyConfig = {MathJaxConfig: 'local'};\n",
       "        if (window.MathJax && window.MathJax.Hub && window.MathJax.Hub.Config) {window.MathJax.Hub.Config({SVG: {font: \"STIX-Web\"}});}\n",
       "        if (typeof require !== 'undefined') {\n",
       "        require.undef(\"plotly\");\n",
       "        requirejs.config({\n",
       "            paths: {\n",
       "                'plotly': ['https://cdn.plot.ly/plotly-2.35.2.min']\n",
       "            }\n",
       "        });\n",
       "        require(['plotly'], function(Plotly) {\n",
       "            window._Plotly = Plotly;\n",
       "        });\n",
       "        }\n",
       "        </script>\n",
       "        "
      ]
     },
     "metadata": {},
     "output_type": "display_data"
    }
   ],
   "source": [
    "import chart_studio.plotly as py\n",
    "import cufflinks as cf\n",
    "cf.go_offline(connected=True)"
   ]
  },
  {
   "cell_type": "code",
   "execution_count": 545,
   "id": "0b28f58e-f050-406b-b74a-c473675df42a",
   "metadata": {},
   "outputs": [
    {
     "name": "stdout",
     "output_type": "stream",
     "text": [
      "Train DataFrame shape: (178743, 32)\n",
      "Test DataFrame shape: (19861, 32)\n"
     ]
    }
   ],
   "source": [
    "import pandas as pd\n",
    "from sklearn.model_selection import train_test_split\n",
    "\n",
    "# 데이터프레임 로드 (이미 로드되어 있다고 가정)\n",
    "# df = pd.read_csv('your_file.csv')\n",
    "\n",
    "# 데이터를 9:1 비율로 훈련 데이터와 테스트 데이터로 분리\n",
    "train_df, test_df = train_test_split(df, test_size=0.1, random_state=42)  # test_size=0.1은 전체 데이터의 10%를 테스트 데이터로 설정\n",
    "\n",
    "# 훈련 데이터와 테스트 데이터의 shape 확인\n",
    "print(\"Train DataFrame shape:\", train_df.shape)\n",
    "print(\"Test DataFrame shape:\", test_df.shape)\n"
   ]
  },
  {
   "cell_type": "code",
   "execution_count": 547,
   "id": "9de979fa-65c0-42ee-9937-b7ef1d5446f7",
   "metadata": {},
   "outputs": [],
   "source": [
    "# 결과 저장\n",
    "train_df.to_csv('jaehyeon_train.csv', index=False)\n",
    "test_df.to_csv('jaehyeon_test.csv', index=False)"
   ]
  },
  {
   "cell_type": "code",
   "execution_count": 539,
   "id": "32ac4935-06c8-494a-b36c-5d9e020c2a8c",
   "metadata": {},
   "outputs": [
    {
     "data": {
      "application/vnd.plotly.v1+json": {
       "config": {
        "linkText": "Export to plot.ly",
        "plotlyServerURL": "https://plot.ly",
        "showLink": true
       },
       "data": [
        {
         "colorscale": [
          [
           0,
           "rgb(247,251,255)"
          ],
          [
           0.125,
           "rgb(222,235,247)"
          ],
          [
           0.25,
           "rgb(198,219,239)"
          ],
          [
           0.375,
           "rgb(158,202,225)"
          ],
          [
           0.5,
           "rgb(107,174,214)"
          ],
          [
           0.625,
           "rgb(66,146,198)"
          ],
          [
           0.75,
           "rgb(33,113,181)"
          ],
          [
           0.875,
           "rgb(8,81,156)"
          ],
          [
           1,
           "rgb(8,48,107)"
          ]
         ],
         "type": "heatmap",
         "x": [
          "Patient Age at Treatment",
          "Total number of live births - conceived through IVF",
          "Type of Infertility - Female Primary",
          "Type of Infertility - Female Secondary",
          "Type of Infertility - Male Primary",
          "Type of Infertility - Male Secondary",
          "Type of Infertility -Couple Primary",
          "Type of Infertility -Couple Secondary",
          "Cause  of Infertility - Tubal disease",
          "Cause of Infertility - Ovulatory Disorder",
          "Cause of Infertility - Male Factor",
          "Cause of Infertility - Patient Unexplained",
          "Cause of Infertility - Endometriosis",
          "Cause of Infertility - Cervical factors",
          "Cause of Infertility - Female Factors",
          "Cause of Infertility - Partner Sperm Concentration",
          "Cause of Infertility -  Partner Sperm Morphology",
          "Causes of Infertility - Partner Sperm Motility",
          "Cause of Infertility -  Partner Sperm Immunological factors",
          "Stimulation used",
          "Fresh Cycle",
          "Frozen Cycle",
          "Eggs Thawed",
          "Embryos Transfered",
          "Live Birth Occurrence"
         ],
         "y": [
          "Patient Age at Treatment",
          "Total number of live births - conceived through IVF",
          "Type of Infertility - Female Primary",
          "Type of Infertility - Female Secondary",
          "Type of Infertility - Male Primary",
          "Type of Infertility - Male Secondary",
          "Type of Infertility -Couple Primary",
          "Type of Infertility -Couple Secondary",
          "Cause  of Infertility - Tubal disease",
          "Cause of Infertility - Ovulatory Disorder",
          "Cause of Infertility - Male Factor",
          "Cause of Infertility - Patient Unexplained",
          "Cause of Infertility - Endometriosis",
          "Cause of Infertility - Cervical factors",
          "Cause of Infertility - Female Factors",
          "Cause of Infertility - Partner Sperm Concentration",
          "Cause of Infertility -  Partner Sperm Morphology",
          "Causes of Infertility - Partner Sperm Motility",
          "Cause of Infertility -  Partner Sperm Immunological factors",
          "Stimulation used",
          "Fresh Cycle",
          "Frozen Cycle",
          "Eggs Thawed",
          "Embryos Transfered",
          "Live Birth Occurrence"
         ],
         "z": [
          [
           1,
           0.04015713697960743,
           0.0014570454298628622,
           0.025970535796316353,
           0.005858455923488495,
           0.020741240922373307,
           0.007054064094408064,
           0.01862949669689038,
           -0.055555953554243975,
           -0.05046179545462909,
           null,
           0.0004955473630506678,
           -0.0499018708674954,
           -0.00011319702006816005,
           null,
           null,
           null,
           null,
           null,
           null,
           -0.001827642104319208,
           0.009688847360363528,
           0.015403421942368635,
           0.08855818885071234,
           -0.12536206879814113
          ],
          [
           0.04015713697960743,
           1,
           0.20192001734459486,
           0.15708028575217547,
           0.2064364199234458,
           0.15063047907965565,
           0.21580659346074435,
           0.1368724811352476,
           0.04029925612395658,
           0.00684382753015955,
           null,
           0.001551849362519606,
           0.00431155618559203,
           0.00845446553443569,
           null,
           null,
           null,
           null,
           null,
           null,
           -0.00013042180503855573,
           0.006094386374997381,
           0.0008809131472645388,
           0.07220310756435323,
           0.02876854570480846
          ],
          [
           0.0014570454298628622,
           0.20192001734459486,
           1,
           -0.0059370978020382515,
           0.8529018949369548,
           0.17381858121853197,
           0.8942660580264049,
           0.04260151420998192,
           0.027397008531741762,
           0.012568596220343037,
           null,
           0.0032525578205133783,
           0.0014051900763783843,
           0.04236393751242621,
           null,
           null,
           null,
           null,
           null,
           null,
           -0.006012387512511032,
           0.01226018194164557,
           0.00568024874645654,
           0.04133891259759108,
           0.0003430879136206506
          ],
          [
           0.025970535796316353,
           0.15708028575217547,
           -0.0059370978020382515,
           1,
           0.18465349750657417,
           0.7343468974626365,
           0.21260984612923686,
           0.7841101831611196,
           0.07069150005880048,
           -0.003565936386360049,
           null,
           -0.019320965478563663,
           -0.010993381952474963,
           0.022973423787850403,
           null,
           null,
           null,
           null,
           null,
           null,
           -0.002154065426974161,
           0.00466568500884112,
           0.006467178914444453,
           0.0308996933870054,
           -0.005687111611212137
          ],
          [
           0.005858455923488495,
           0.2064364199234458,
           0.8529018949369548,
           0.18465349750657417,
           1,
           -0.0072052023178405065,
           0.925951062217887,
           0.0013531441289203986,
           0.035930683524320314,
           0.010436890012009068,
           null,
           -0.0011699842941018505,
           -0.0007516791675980334,
           0.042341806151083065,
           null,
           null,
           null,
           null,
           null,
           null,
           -0.006007196564821742,
           0.012250612168487465,
           0.004158448522614276,
           0.04405525551117675,
           0.0006690532667450465
          ],
          [
           0.020741240922373307,
           0.15063047907965565,
           0.17381858121853197,
           0.7343468974626365,
           -0.0072052023178405065,
           1,
           0.167891974585807,
           0.8434063543643056,
           0.056887210359251664,
           0.0002706670934487867,
           null,
           -0.011266443908416478,
           -0.008511248511736605,
           0.023382135231947966,
           null,
           null,
           null,
           null,
           null,
           null,
           -0.0022429291328602656,
           0.00482691484380676,
           -0.0013694822368622802,
           0.02710059344943449,
           -0.00543054820519612
          ],
          [
           0.007054064094408064,
           0.21580659346074435,
           0.8942660580264049,
           0.21260984612923686,
           0.925951062217887,
           0.167891974585807,
           1,
           -0.0065581199962772676,
           0.042513912872701065,
           0.010250664729405263,
           null,
           -0.003199461464274056,
           0.00024711463598045856,
           0.039760521445868655,
           null,
           null,
           null,
           null,
           null,
           null,
           -0.0053940679984754575,
           0.014370232569152751,
           0.0036773955155755037,
           0.04586782238820465,
           -0.0006292695726146954
          ],
          [
           0.01862949669689038,
           0.1368724811352476,
           0.04260151420998192,
           0.7841101831611196,
           0.0013531441289203986,
           0.8434063543643056,
           -0.0065581199962772676,
           1,
           0.054414966463223906,
           -0.0005253285529350319,
           null,
           -0.012140297311664586,
           -0.00983098783926591,
           0.026979589913278427,
           null,
           null,
           null,
           null,
           null,
           null,
           -0.002993965682937762,
           0.0007015966149532259,
           -0.0011910426376587134,
           0.024084644315486996,
           -0.004822026891041691
          ],
          [
           -0.055555953554243975,
           0.04029925612395658,
           0.027397008531741762,
           0.07069150005880048,
           0.035930683524320314,
           0.056887210359251664,
           0.042513912872701065,
           0.054414966463223906,
           1,
           -0.07935017249130628,
           null,
           -0.3970763116437798,
           0.012591625699051501,
           0.0017785174376377698,
           null,
           null,
           null,
           null,
           null,
           null,
           -0.003984523191865617,
           0.004307183923372472,
           -0.003557278489819459,
           0.07525977351833817,
           0.03538016818200748
          ],
          [
           -0.05046179545462909,
           0.00684382753015955,
           0.012568596220343037,
           -0.003565936386360049,
           0.010436890012009068,
           0.0002706670934487867,
           0.010250664729405263,
           -0.0005253285529350319,
           -0.07935017249130628,
           1,
           null,
           -0.3117851460803446,
           -0.05146231521301634,
           -0.0024136238582829826,
           null,
           null,
           null,
           null,
           null,
           null,
           -0.002346862730057901,
           0.000785036363736206,
           -0.0026852927844816807,
           -0.01065178988747345,
           0.052051932385375504
          ],
          [
           null,
           null,
           null,
           null,
           null,
           null,
           null,
           null,
           null,
           null,
           null,
           null,
           null,
           null,
           null,
           null,
           null,
           null,
           null,
           null,
           null,
           null,
           null,
           null,
           null
          ],
          [
           0.0004955473630506678,
           0.001551849362519606,
           0.0032525578205133783,
           -0.019320965478563663,
           -0.0011699842941018505,
           -0.011266443908416478,
           -0.003199461464274056,
           -0.012140297311664586,
           -0.3970763116437798,
           -0.3117851460803446,
           null,
           1,
           -0.24738675687840872,
           -0.005725242309342647,
           null,
           null,
           null,
           null,
           null,
           null,
           0.0007605417606164295,
           -0.0004603601487911186,
           -0.003890793685564341,
           0.1429624366837926,
           0.055380877092131624
          ],
          [
           -0.0499018708674954,
           0.00431155618559203,
           0.0014051900763783843,
           -0.010993381952474963,
           -0.0007516791675980334,
           -0.008511248511736605,
           0.00024711463598045856,
           -0.00983098783926591,
           0.012591625699051501,
           -0.05146231521301634,
           null,
           -0.24738675687840872,
           1,
           0.0012999837766273406,
           null,
           null,
           null,
           null,
           null,
           null,
           0.002045299810297177,
           -0.0017889438767935458,
           -0.003159348494316463,
           0.03607709994391121,
           0.016275293127115592
          ],
          [
           -0.00011319702006816005,
           0.00845446553443569,
           0.04236393751242621,
           0.022973423787850403,
           0.042341806151083065,
           0.023382135231947966,
           0.039760521445868655,
           0.026979589913278427,
           0.0017785174376377698,
           -0.0024136238582829826,
           null,
           -0.005725242309342647,
           0.0012999837766273406,
           1,
           null,
           null,
           null,
           null,
           null,
           null,
           0.00012475096901566973,
           -0.00019535052991248808,
           -0.00011369012792735163,
           -0.0017547618905357767,
           -0.0012733368934027792
          ],
          [
           null,
           null,
           null,
           null,
           null,
           null,
           null,
           null,
           null,
           null,
           null,
           null,
           null,
           null,
           null,
           null,
           null,
           null,
           null,
           null,
           null,
           null,
           null,
           null,
           null
          ],
          [
           null,
           null,
           null,
           null,
           null,
           null,
           null,
           null,
           null,
           null,
           null,
           null,
           null,
           null,
           null,
           null,
           null,
           null,
           null,
           null,
           null,
           null,
           null,
           null,
           null
          ],
          [
           null,
           null,
           null,
           null,
           null,
           null,
           null,
           null,
           null,
           null,
           null,
           null,
           null,
           null,
           null,
           null,
           null,
           null,
           null,
           null,
           null,
           null,
           null,
           null,
           null
          ],
          [
           null,
           null,
           null,
           null,
           null,
           null,
           null,
           null,
           null,
           null,
           null,
           null,
           null,
           null,
           null,
           null,
           null,
           null,
           null,
           null,
           null,
           null,
           null,
           null,
           null
          ],
          [
           null,
           null,
           null,
           null,
           null,
           null,
           null,
           null,
           null,
           null,
           null,
           null,
           null,
           null,
           null,
           null,
           null,
           null,
           null,
           null,
           null,
           null,
           null,
           null,
           null
          ],
          [
           null,
           null,
           null,
           null,
           null,
           null,
           null,
           null,
           null,
           null,
           null,
           null,
           null,
           null,
           null,
           null,
           null,
           null,
           null,
           null,
           null,
           null,
           null,
           null,
           null
          ],
          [
           -0.001827642104319208,
           -0.00013042180503855573,
           -0.006012387512511032,
           -0.002154065426974161,
           -0.006007196564821742,
           -0.0022429291328602656,
           -0.0053940679984754575,
           -0.002993965682937762,
           -0.003984523191865617,
           -0.002346862730057901,
           null,
           0.0007605417606164295,
           0.002045299810297177,
           0.00012475096901566973,
           null,
           null,
           null,
           null,
           null,
           null,
           1,
           -0.6386006174226722,
           -0.010717529131719685,
           -0.003926351744650383,
           0.002144737193624709
          ],
          [
           0.009688847360363528,
           0.006094386374997381,
           0.01226018194164557,
           0.00466568500884112,
           0.012250612168487465,
           0.00482691484380676,
           0.014370232569152751,
           0.0007015966149532259,
           0.004307183923372472,
           0.000785036363736206,
           null,
           -0.0004603601487911186,
           -0.0017889438767935458,
           -0.00019535052991248808,
           null,
           null,
           null,
           null,
           null,
           null,
           -0.6386006174226722,
           1,
           0.006512477813240017,
           0.02248767439285747,
           -0.0015885322828348535
          ],
          [
           0.015403421942368635,
           0.0008809131472645388,
           0.00568024874645654,
           0.006467178914444453,
           0.004158448522614276,
           -0.0013694822368622802,
           0.0036773955155755037,
           -0.0011910426376587134,
           -0.003557278489819459,
           -0.0026852927844816807,
           null,
           -0.003890793685564341,
           -0.003159348494316463,
           -0.00011369012792735163,
           null,
           null,
           null,
           null,
           null,
           null,
           -0.010717529131719685,
           0.006512477813240017,
           1,
           0.007881092072160355,
           -0.005295961488901257
          ],
          [
           0.08855818885071234,
           0.07220310756435323,
           0.04133891259759108,
           0.0308996933870054,
           0.04405525551117675,
           0.02710059344943449,
           0.04586782238820465,
           0.024084644315486996,
           0.07525977351833817,
           -0.01065178988747345,
           null,
           0.1429624366837926,
           0.03607709994391121,
           -0.0017547618905357767,
           null,
           null,
           null,
           null,
           null,
           null,
           -0.003926351744650383,
           0.02248767439285747,
           0.007881092072160355,
           1,
           0.2162254803199578
          ],
          [
           -0.12536206879814113,
           0.02876854570480846,
           0.0003430879136206506,
           -0.005687111611212137,
           0.0006690532667450465,
           -0.00543054820519612,
           -0.0006292695726146954,
           -0.004822026891041691,
           0.03538016818200748,
           0.052051932385375504,
           null,
           0.055380877092131624,
           0.016275293127115592,
           -0.0012733368934027792,
           null,
           null,
           null,
           null,
           null,
           null,
           0.002144737193624709,
           -0.0015885322828348535,
           -0.005295961488901257,
           0.2162254803199578,
           1
          ]
         ],
         "zmax": null,
         "zmin": null
        }
       ],
       "layout": {
        "autosize": true,
        "legend": {
         "bgcolor": "#F5F6F9",
         "font": {
          "color": "#4D5663"
         }
        },
        "paper_bgcolor": "#F5F6F9",
        "plot_bgcolor": "#F5F6F9",
        "template": {
         "data": {
          "bar": [
           {
            "error_x": {
             "color": "#2a3f5f"
            },
            "error_y": {
             "color": "#2a3f5f"
            },
            "marker": {
             "line": {
              "color": "#E5ECF6",
              "width": 0.5
             },
             "pattern": {
              "fillmode": "overlay",
              "size": 10,
              "solidity": 0.2
             }
            },
            "type": "bar"
           }
          ],
          "barpolar": [
           {
            "marker": {
             "line": {
              "color": "#E5ECF6",
              "width": 0.5
             },
             "pattern": {
              "fillmode": "overlay",
              "size": 10,
              "solidity": 0.2
             }
            },
            "type": "barpolar"
           }
          ],
          "carpet": [
           {
            "aaxis": {
             "endlinecolor": "#2a3f5f",
             "gridcolor": "white",
             "linecolor": "white",
             "minorgridcolor": "white",
             "startlinecolor": "#2a3f5f"
            },
            "baxis": {
             "endlinecolor": "#2a3f5f",
             "gridcolor": "white",
             "linecolor": "white",
             "minorgridcolor": "white",
             "startlinecolor": "#2a3f5f"
            },
            "type": "carpet"
           }
          ],
          "choropleth": [
           {
            "colorbar": {
             "outlinewidth": 0,
             "ticks": ""
            },
            "type": "choropleth"
           }
          ],
          "contour": [
           {
            "colorbar": {
             "outlinewidth": 0,
             "ticks": ""
            },
            "colorscale": [
             [
              0,
              "#0d0887"
             ],
             [
              0.1111111111111111,
              "#46039f"
             ],
             [
              0.2222222222222222,
              "#7201a8"
             ],
             [
              0.3333333333333333,
              "#9c179e"
             ],
             [
              0.4444444444444444,
              "#bd3786"
             ],
             [
              0.5555555555555556,
              "#d8576b"
             ],
             [
              0.6666666666666666,
              "#ed7953"
             ],
             [
              0.7777777777777778,
              "#fb9f3a"
             ],
             [
              0.8888888888888888,
              "#fdca26"
             ],
             [
              1,
              "#f0f921"
             ]
            ],
            "type": "contour"
           }
          ],
          "contourcarpet": [
           {
            "colorbar": {
             "outlinewidth": 0,
             "ticks": ""
            },
            "type": "contourcarpet"
           }
          ],
          "heatmap": [
           {
            "colorbar": {
             "outlinewidth": 0,
             "ticks": ""
            },
            "colorscale": [
             [
              0,
              "#0d0887"
             ],
             [
              0.1111111111111111,
              "#46039f"
             ],
             [
              0.2222222222222222,
              "#7201a8"
             ],
             [
              0.3333333333333333,
              "#9c179e"
             ],
             [
              0.4444444444444444,
              "#bd3786"
             ],
             [
              0.5555555555555556,
              "#d8576b"
             ],
             [
              0.6666666666666666,
              "#ed7953"
             ],
             [
              0.7777777777777778,
              "#fb9f3a"
             ],
             [
              0.8888888888888888,
              "#fdca26"
             ],
             [
              1,
              "#f0f921"
             ]
            ],
            "type": "heatmap"
           }
          ],
          "heatmapgl": [
           {
            "colorbar": {
             "outlinewidth": 0,
             "ticks": ""
            },
            "colorscale": [
             [
              0,
              "#0d0887"
             ],
             [
              0.1111111111111111,
              "#46039f"
             ],
             [
              0.2222222222222222,
              "#7201a8"
             ],
             [
              0.3333333333333333,
              "#9c179e"
             ],
             [
              0.4444444444444444,
              "#bd3786"
             ],
             [
              0.5555555555555556,
              "#d8576b"
             ],
             [
              0.6666666666666666,
              "#ed7953"
             ],
             [
              0.7777777777777778,
              "#fb9f3a"
             ],
             [
              0.8888888888888888,
              "#fdca26"
             ],
             [
              1,
              "#f0f921"
             ]
            ],
            "type": "heatmapgl"
           }
          ],
          "histogram": [
           {
            "marker": {
             "pattern": {
              "fillmode": "overlay",
              "size": 10,
              "solidity": 0.2
             }
            },
            "type": "histogram"
           }
          ],
          "histogram2d": [
           {
            "colorbar": {
             "outlinewidth": 0,
             "ticks": ""
            },
            "colorscale": [
             [
              0,
              "#0d0887"
             ],
             [
              0.1111111111111111,
              "#46039f"
             ],
             [
              0.2222222222222222,
              "#7201a8"
             ],
             [
              0.3333333333333333,
              "#9c179e"
             ],
             [
              0.4444444444444444,
              "#bd3786"
             ],
             [
              0.5555555555555556,
              "#d8576b"
             ],
             [
              0.6666666666666666,
              "#ed7953"
             ],
             [
              0.7777777777777778,
              "#fb9f3a"
             ],
             [
              0.8888888888888888,
              "#fdca26"
             ],
             [
              1,
              "#f0f921"
             ]
            ],
            "type": "histogram2d"
           }
          ],
          "histogram2dcontour": [
           {
            "colorbar": {
             "outlinewidth": 0,
             "ticks": ""
            },
            "colorscale": [
             [
              0,
              "#0d0887"
             ],
             [
              0.1111111111111111,
              "#46039f"
             ],
             [
              0.2222222222222222,
              "#7201a8"
             ],
             [
              0.3333333333333333,
              "#9c179e"
             ],
             [
              0.4444444444444444,
              "#bd3786"
             ],
             [
              0.5555555555555556,
              "#d8576b"
             ],
             [
              0.6666666666666666,
              "#ed7953"
             ],
             [
              0.7777777777777778,
              "#fb9f3a"
             ],
             [
              0.8888888888888888,
              "#fdca26"
             ],
             [
              1,
              "#f0f921"
             ]
            ],
            "type": "histogram2dcontour"
           }
          ],
          "mesh3d": [
           {
            "colorbar": {
             "outlinewidth": 0,
             "ticks": ""
            },
            "type": "mesh3d"
           }
          ],
          "parcoords": [
           {
            "line": {
             "colorbar": {
              "outlinewidth": 0,
              "ticks": ""
             }
            },
            "type": "parcoords"
           }
          ],
          "pie": [
           {
            "automargin": true,
            "type": "pie"
           }
          ],
          "scatter": [
           {
            "fillpattern": {
             "fillmode": "overlay",
             "size": 10,
             "solidity": 0.2
            },
            "type": "scatter"
           }
          ],
          "scatter3d": [
           {
            "line": {
             "colorbar": {
              "outlinewidth": 0,
              "ticks": ""
             }
            },
            "marker": {
             "colorbar": {
              "outlinewidth": 0,
              "ticks": ""
             }
            },
            "type": "scatter3d"
           }
          ],
          "scattercarpet": [
           {
            "marker": {
             "colorbar": {
              "outlinewidth": 0,
              "ticks": ""
             }
            },
            "type": "scattercarpet"
           }
          ],
          "scattergeo": [
           {
            "marker": {
             "colorbar": {
              "outlinewidth": 0,
              "ticks": ""
             }
            },
            "type": "scattergeo"
           }
          ],
          "scattergl": [
           {
            "marker": {
             "colorbar": {
              "outlinewidth": 0,
              "ticks": ""
             }
            },
            "type": "scattergl"
           }
          ],
          "scattermapbox": [
           {
            "marker": {
             "colorbar": {
              "outlinewidth": 0,
              "ticks": ""
             }
            },
            "type": "scattermapbox"
           }
          ],
          "scatterpolar": [
           {
            "marker": {
             "colorbar": {
              "outlinewidth": 0,
              "ticks": ""
             }
            },
            "type": "scatterpolar"
           }
          ],
          "scatterpolargl": [
           {
            "marker": {
             "colorbar": {
              "outlinewidth": 0,
              "ticks": ""
             }
            },
            "type": "scatterpolargl"
           }
          ],
          "scatterternary": [
           {
            "marker": {
             "colorbar": {
              "outlinewidth": 0,
              "ticks": ""
             }
            },
            "type": "scatterternary"
           }
          ],
          "surface": [
           {
            "colorbar": {
             "outlinewidth": 0,
             "ticks": ""
            },
            "colorscale": [
             [
              0,
              "#0d0887"
             ],
             [
              0.1111111111111111,
              "#46039f"
             ],
             [
              0.2222222222222222,
              "#7201a8"
             ],
             [
              0.3333333333333333,
              "#9c179e"
             ],
             [
              0.4444444444444444,
              "#bd3786"
             ],
             [
              0.5555555555555556,
              "#d8576b"
             ],
             [
              0.6666666666666666,
              "#ed7953"
             ],
             [
              0.7777777777777778,
              "#fb9f3a"
             ],
             [
              0.8888888888888888,
              "#fdca26"
             ],
             [
              1,
              "#f0f921"
             ]
            ],
            "type": "surface"
           }
          ],
          "table": [
           {
            "cells": {
             "fill": {
              "color": "#EBF0F8"
             },
             "line": {
              "color": "white"
             }
            },
            "header": {
             "fill": {
              "color": "#C8D4E3"
             },
             "line": {
              "color": "white"
             }
            },
            "type": "table"
           }
          ]
         },
         "layout": {
          "annotationdefaults": {
           "arrowcolor": "#2a3f5f",
           "arrowhead": 0,
           "arrowwidth": 1
          },
          "autotypenumbers": "strict",
          "coloraxis": {
           "colorbar": {
            "outlinewidth": 0,
            "ticks": ""
           }
          },
          "colorscale": {
           "diverging": [
            [
             0,
             "#8e0152"
            ],
            [
             0.1,
             "#c51b7d"
            ],
            [
             0.2,
             "#de77ae"
            ],
            [
             0.3,
             "#f1b6da"
            ],
            [
             0.4,
             "#fde0ef"
            ],
            [
             0.5,
             "#f7f7f7"
            ],
            [
             0.6,
             "#e6f5d0"
            ],
            [
             0.7,
             "#b8e186"
            ],
            [
             0.8,
             "#7fbc41"
            ],
            [
             0.9,
             "#4d9221"
            ],
            [
             1,
             "#276419"
            ]
           ],
           "sequential": [
            [
             0,
             "#0d0887"
            ],
            [
             0.1111111111111111,
             "#46039f"
            ],
            [
             0.2222222222222222,
             "#7201a8"
            ],
            [
             0.3333333333333333,
             "#9c179e"
            ],
            [
             0.4444444444444444,
             "#bd3786"
            ],
            [
             0.5555555555555556,
             "#d8576b"
            ],
            [
             0.6666666666666666,
             "#ed7953"
            ],
            [
             0.7777777777777778,
             "#fb9f3a"
            ],
            [
             0.8888888888888888,
             "#fdca26"
            ],
            [
             1,
             "#f0f921"
            ]
           ],
           "sequentialminus": [
            [
             0,
             "#0d0887"
            ],
            [
             0.1111111111111111,
             "#46039f"
            ],
            [
             0.2222222222222222,
             "#7201a8"
            ],
            [
             0.3333333333333333,
             "#9c179e"
            ],
            [
             0.4444444444444444,
             "#bd3786"
            ],
            [
             0.5555555555555556,
             "#d8576b"
            ],
            [
             0.6666666666666666,
             "#ed7953"
            ],
            [
             0.7777777777777778,
             "#fb9f3a"
            ],
            [
             0.8888888888888888,
             "#fdca26"
            ],
            [
             1,
             "#f0f921"
            ]
           ]
          },
          "colorway": [
           "#636efa",
           "#EF553B",
           "#00cc96",
           "#ab63fa",
           "#FFA15A",
           "#19d3f3",
           "#FF6692",
           "#B6E880",
           "#FF97FF",
           "#FECB52"
          ],
          "font": {
           "color": "#2a3f5f"
          },
          "geo": {
           "bgcolor": "white",
           "lakecolor": "white",
           "landcolor": "#E5ECF6",
           "showlakes": true,
           "showland": true,
           "subunitcolor": "white"
          },
          "hoverlabel": {
           "align": "left"
          },
          "hovermode": "closest",
          "mapbox": {
           "style": "light"
          },
          "paper_bgcolor": "white",
          "plot_bgcolor": "#E5ECF6",
          "polar": {
           "angularaxis": {
            "gridcolor": "white",
            "linecolor": "white",
            "ticks": ""
           },
           "bgcolor": "#E5ECF6",
           "radialaxis": {
            "gridcolor": "white",
            "linecolor": "white",
            "ticks": ""
           }
          },
          "scene": {
           "xaxis": {
            "backgroundcolor": "#E5ECF6",
            "gridcolor": "white",
            "gridwidth": 2,
            "linecolor": "white",
            "showbackground": true,
            "ticks": "",
            "zerolinecolor": "white"
           },
           "yaxis": {
            "backgroundcolor": "#E5ECF6",
            "gridcolor": "white",
            "gridwidth": 2,
            "linecolor": "white",
            "showbackground": true,
            "ticks": "",
            "zerolinecolor": "white"
           },
           "zaxis": {
            "backgroundcolor": "#E5ECF6",
            "gridcolor": "white",
            "gridwidth": 2,
            "linecolor": "white",
            "showbackground": true,
            "ticks": "",
            "zerolinecolor": "white"
           }
          },
          "shapedefaults": {
           "line": {
            "color": "#2a3f5f"
           }
          },
          "ternary": {
           "aaxis": {
            "gridcolor": "white",
            "linecolor": "white",
            "ticks": ""
           },
           "baxis": {
            "gridcolor": "white",
            "linecolor": "white",
            "ticks": ""
           },
           "bgcolor": "#E5ECF6",
           "caxis": {
            "gridcolor": "white",
            "linecolor": "white",
            "ticks": ""
           }
          },
          "title": {
           "x": 0.05
          },
          "xaxis": {
           "automargin": true,
           "gridcolor": "white",
           "linecolor": "white",
           "ticks": "",
           "title": {
            "standoff": 15
           },
           "zerolinecolor": "white",
           "zerolinewidth": 2
          },
          "yaxis": {
           "automargin": true,
           "gridcolor": "white",
           "linecolor": "white",
           "ticks": "",
           "title": {
            "standoff": 15
           },
           "zerolinecolor": "white",
           "zerolinewidth": 2
          }
         }
        },
        "title": {
         "font": {
          "color": "#4D5663"
         }
        },
        "xaxis": {
         "autorange": false,
         "gridcolor": "#E1E5ED",
         "range": [
          -2.9193548387096775,
          22.080645161290324
         ],
         "showgrid": true,
         "tickfont": {
          "color": "#4D5663"
         },
         "title": {
          "font": {
           "color": "#4D5663"
          },
          "text": ""
         },
         "type": "category",
         "zerolinecolor": "#E1E5ED"
        },
        "yaxis": {
         "autorange": true,
         "gridcolor": "#E1E5ED",
         "range": [
          -0.5,
          24.5
         ],
         "showgrid": true,
         "tickfont": {
          "color": "#4D5663"
         },
         "title": {
          "font": {
           "color": "#4D5663"
          },
          "text": ""
         },
         "type": "category",
         "zerolinecolor": "#E1E5ED"
        }
       }
      },
      "image/png": "[encoded data removed]",
      "text/html": [
       "<div>                            <div id=\"c2670ad4-47be-4393-b3e2-ec0f5a1ce681\" class=\"plotly-graph-div\" style=\"height:525px; width:100%;\"></div>            <script type=\"text/javascript\">                require([\"plotly\"], function(Plotly) {                    window.PLOTLYENV=window.PLOTLYENV || {};\n",
       "                    window.PLOTLYENV.BASE_URL='https://plot.ly';                                    if (document.getElementById(\"c2670ad4-47be-4393-b3e2-ec0f5a1ce681\")) {                    Plotly.newPlot(                        \"c2670ad4-47be-4393-b3e2-ec0f5a1ce681\",                        [{\"colorscale\":[[0.0,\"rgb(247,251,255)\"],[0.125,\"rgb(222,235,247)\"],[0.25,\"rgb(198,219,239)\"],[0.375,\"rgb(158,202,225)\"],[0.5,\"rgb(107,174,214)\"],[0.625,\"rgb(66,146,198)\"],[0.75,\"rgb(33,113,181)\"],[0.875,\"rgb(8,81,156)\"],[1.0,\"rgb(8,48,107)\"]],\"x\":[\"Patient Age at Treatment\",\"Total number of live births - conceived through IVF\",\"Type of Infertility - Female Primary\",\"Type of Infertility - Female Secondary\",\"Type of Infertility - Male Primary\",\"Type of Infertility - Male Secondary\",\"Type of Infertility -Couple Primary\",\"Type of Infertility -Couple Secondary\",\"Cause  of Infertility - Tubal disease\",\"Cause of Infertility - Ovulatory Disorder\",\"Cause of Infertility - Male Factor\",\"Cause of Infertility - Patient Unexplained\",\"Cause of Infertility - Endometriosis\",\"Cause of Infertility - Cervical factors\",\"Cause of Infertility - Female Factors\",\"Cause of Infertility - Partner Sperm Concentration\",\"Cause of Infertility -  Partner Sperm Morphology\",\"Causes of Infertility - Partner Sperm Motility\",\"Cause of Infertility -  Partner Sperm Immunological factors\",\"Stimulation used\",\"Fresh Cycle\",\"Frozen Cycle\",\"Eggs Thawed\",\"Embryos Transfered\",\"Live Birth Occurrence\"],\"y\":[\"Patient Age at Treatment\",\"Total number of live births - conceived through IVF\",\"Type of Infertility - Female Primary\",\"Type of Infertility - Female Secondary\",\"Type of Infertility - Male Primary\",\"Type of Infertility - Male Secondary\",\"Type of Infertility -Couple Primary\",\"Type of Infertility -Couple Secondary\",\"Cause  of Infertility - Tubal disease\",\"Cause of Infertility - Ovulatory Disorder\",\"Cause of Infertility - Male Factor\",\"Cause of Infertility - Patient Unexplained\",\"Cause of Infertility - Endometriosis\",\"Cause of Infertility - Cervical factors\",\"Cause of Infertility - Female Factors\",\"Cause of Infertility - Partner Sperm Concentration\",\"Cause of Infertility -  Partner Sperm Morphology\",\"Causes of Infertility - Partner Sperm Motility\",\"Cause of Infertility -  Partner Sperm Immunological factors\",\"Stimulation used\",\"Fresh Cycle\",\"Frozen Cycle\",\"Eggs Thawed\",\"Embryos Transfered\",\"Live Birth Occurrence\"],\"z\":[[1.0,0.04015713697960743,0.0014570454298628622,0.025970535796316353,0.005858455923488495,0.020741240922373307,0.007054064094408064,0.01862949669689038,-0.055555953554243975,-0.05046179545462909,null,0.0004955473630506678,-0.0499018708674954,-0.00011319702006816005,null,null,null,null,null,null,-0.001827642104319208,0.009688847360363528,0.015403421942368635,0.08855818885071234,-0.12536206879814113],[0.04015713697960743,1.0,0.20192001734459486,0.15708028575217547,0.2064364199234458,0.15063047907965565,0.21580659346074435,0.1368724811352476,0.04029925612395658,0.00684382753015955,null,0.001551849362519606,0.00431155618559203,0.00845446553443569,null,null,null,null,null,null,-0.00013042180503855573,0.006094386374997381,0.0008809131472645388,0.07220310756435323,0.02876854570480846],[0.0014570454298628622,0.20192001734459486,1.0,-0.0059370978020382515,0.8529018949369548,0.17381858121853197,0.8942660580264049,0.04260151420998192,0.027397008531741762,0.012568596220343037,null,0.0032525578205133783,0.0014051900763783843,0.04236393751242621,null,null,null,null,null,null,-0.006012387512511032,0.01226018194164557,0.00568024874645654,0.04133891259759108,0.0003430879136206506],[0.025970535796316353,0.15708028575217547,-0.0059370978020382515,1.0,0.18465349750657417,0.7343468974626365,0.21260984612923686,0.7841101831611196,0.07069150005880048,-0.003565936386360049,null,-0.019320965478563663,-0.010993381952474963,0.022973423787850403,null,null,null,null,null,null,-0.002154065426974161,0.00466568500884112,0.006467178914444453,0.0308996933870054,-0.005687111611212137],[0.005858455923488495,0.2064364199234458,0.8529018949369548,0.18465349750657417,1.0,-0.0072052023178405065,0.925951062217887,0.0013531441289203986,0.035930683524320314,0.010436890012009068,null,-0.0011699842941018505,-0.0007516791675980334,0.042341806151083065,null,null,null,null,null,null,-0.006007196564821742,0.012250612168487465,0.004158448522614276,0.04405525551117675,0.0006690532667450465],[0.020741240922373307,0.15063047907965565,0.17381858121853197,0.7343468974626365,-0.0072052023178405065,1.0,0.167891974585807,0.8434063543643056,0.056887210359251664,0.0002706670934487867,null,-0.011266443908416478,-0.008511248511736605,0.023382135231947966,null,null,null,null,null,null,-0.0022429291328602656,0.00482691484380676,-0.0013694822368622802,0.02710059344943449,-0.00543054820519612],[0.007054064094408064,0.21580659346074435,0.8942660580264049,0.21260984612923686,0.925951062217887,0.167891974585807,1.0,-0.0065581199962772676,0.042513912872701065,0.010250664729405263,null,-0.003199461464274056,0.00024711463598045856,0.039760521445868655,null,null,null,null,null,null,-0.0053940679984754575,0.014370232569152751,0.0036773955155755037,0.04586782238820465,-0.0006292695726146954],[0.01862949669689038,0.1368724811352476,0.04260151420998192,0.7841101831611196,0.0013531441289203986,0.8434063543643056,-0.0065581199962772676,1.0,0.054414966463223906,-0.0005253285529350319,null,-0.012140297311664586,-0.00983098783926591,0.026979589913278427,null,null,null,null,null,null,-0.002993965682937762,0.0007015966149532259,-0.0011910426376587134,0.024084644315486996,-0.004822026891041691],[-0.055555953554243975,0.04029925612395658,0.027397008531741762,0.07069150005880048,0.035930683524320314,0.056887210359251664,0.042513912872701065,0.054414966463223906,1.0,-0.07935017249130628,null,-0.3970763116437798,0.012591625699051501,0.0017785174376377698,null,null,null,null,null,null,-0.003984523191865617,0.004307183923372472,-0.003557278489819459,0.07525977351833817,0.03538016818200748],[-0.05046179545462909,0.00684382753015955,0.012568596220343037,-0.003565936386360049,0.010436890012009068,0.0002706670934487867,0.010250664729405263,-0.0005253285529350319,-0.07935017249130628,1.0,null,-0.3117851460803446,-0.05146231521301634,-0.0024136238582829826,null,null,null,null,null,null,-0.002346862730057901,0.000785036363736206,-0.0026852927844816807,-0.01065178988747345,0.052051932385375504],[null,null,null,null,null,null,null,null,null,null,null,null,null,null,null,null,null,null,null,null,null,null,null,null,null],[0.0004955473630506678,0.001551849362519606,0.0032525578205133783,-0.019320965478563663,-0.0011699842941018505,-0.011266443908416478,-0.003199461464274056,-0.012140297311664586,-0.3970763116437798,-0.3117851460803446,null,1.0,-0.24738675687840872,-0.005725242309342647,null,null,null,null,null,null,0.0007605417606164295,-0.0004603601487911186,-0.003890793685564341,0.1429624366837926,0.055380877092131624],[-0.0499018708674954,0.00431155618559203,0.0014051900763783843,-0.010993381952474963,-0.0007516791675980334,-0.008511248511736605,0.00024711463598045856,-0.00983098783926591,0.012591625699051501,-0.05146231521301634,null,-0.24738675687840872,1.0,0.0012999837766273406,null,null,null,null,null,null,0.002045299810297177,-0.0017889438767935458,-0.003159348494316463,0.03607709994391121,0.016275293127115592],[-0.00011319702006816005,0.00845446553443569,0.04236393751242621,0.022973423787850403,0.042341806151083065,0.023382135231947966,0.039760521445868655,0.026979589913278427,0.0017785174376377698,-0.0024136238582829826,null,-0.005725242309342647,0.0012999837766273406,1.0,null,null,null,null,null,null,0.00012475096901566973,-0.00019535052991248808,-0.00011369012792735163,-0.0017547618905357767,-0.0012733368934027792],[null,null,null,null,null,null,null,null,null,null,null,null,null,null,null,null,null,null,null,null,null,null,null,null,null],[null,null,null,null,null,null,null,null,null,null,null,null,null,null,null,null,null,null,null,null,null,null,null,null,null],[null,null,null,null,null,null,null,null,null,null,null,null,null,null,null,null,null,null,null,null,null,null,null,null,null],[null,null,null,null,null,null,null,null,null,null,null,null,null,null,null,null,null,null,null,null,null,null,null,null,null],[null,null,null,null,null,null,null,null,null,null,null,null,null,null,null,null,null,null,null,null,null,null,null,null,null],[null,null,null,null,null,null,null,null,null,null,null,null,null,null,null,null,null,null,null,null,null,null,null,null,null],[-0.001827642104319208,-0.00013042180503855573,-0.006012387512511032,-0.002154065426974161,-0.006007196564821742,-0.0022429291328602656,-0.0053940679984754575,-0.002993965682937762,-0.003984523191865617,-0.002346862730057901,null,0.0007605417606164295,0.002045299810297177,0.00012475096901566973,null,null,null,null,null,null,1.0,-0.6386006174226722,-0.010717529131719685,-0.003926351744650383,0.002144737193624709],[0.009688847360363528,0.006094386374997381,0.01226018194164557,0.00466568500884112,0.012250612168487465,0.00482691484380676,0.014370232569152751,0.0007015966149532259,0.004307183923372472,0.000785036363736206,null,-0.0004603601487911186,-0.0017889438767935458,-0.00019535052991248808,null,null,null,null,null,null,-0.6386006174226722,1.0,0.006512477813240017,0.02248767439285747,-0.0015885322828348535],[0.015403421942368635,0.0008809131472645388,0.00568024874645654,0.006467178914444453,0.004158448522614276,-0.0013694822368622802,0.0036773955155755037,-0.0011910426376587134,-0.003557278489819459,-0.0026852927844816807,null,-0.003890793685564341,-0.003159348494316463,-0.00011369012792735163,null,null,null,null,null,null,-0.010717529131719685,0.006512477813240017,1.0,0.007881092072160355,-0.005295961488901257],[0.08855818885071234,0.07220310756435323,0.04133891259759108,0.0308996933870054,0.04405525551117675,0.02710059344943449,0.04586782238820465,0.024084644315486996,0.07525977351833817,-0.01065178988747345,null,0.1429624366837926,0.03607709994391121,-0.0017547618905357767,null,null,null,null,null,null,-0.003926351744650383,0.02248767439285747,0.007881092072160355,1.0,0.2162254803199578],[-0.12536206879814113,0.02876854570480846,0.0003430879136206506,-0.005687111611212137,0.0006690532667450465,-0.00543054820519612,-0.0006292695726146954,-0.004822026891041691,0.03538016818200748,0.052051932385375504,null,0.055380877092131624,0.016275293127115592,-0.0012733368934027792,null,null,null,null,null,null,0.002144737193624709,-0.0015885322828348535,-0.005295961488901257,0.2162254803199578,1.0]],\"zmax\":null,\"zmin\":null,\"type\":\"heatmap\"}],                        {\"legend\":{\"bgcolor\":\"#F5F6F9\",\"font\":{\"color\":\"#4D5663\"}},\"paper_bgcolor\":\"#F5F6F9\",\"plot_bgcolor\":\"#F5F6F9\",\"template\":{\"data\":{\"barpolar\":[{\"marker\":{\"line\":{\"color\":\"#E5ECF6\",\"width\":0.5},\"pattern\":{\"fillmode\":\"overlay\",\"size\":10,\"solidity\":0.2}},\"type\":\"barpolar\"}],\"bar\":[{\"error_x\":{\"color\":\"#2a3f5f\"},\"error_y\":{\"color\":\"#2a3f5f\"},\"marker\":{\"line\":{\"color\":\"#E5ECF6\",\"width\":0.5},\"pattern\":{\"fillmode\":\"overlay\",\"size\":10,\"solidity\":0.2}},\"type\":\"bar\"}],\"carpet\":[{\"aaxis\":{\"endlinecolor\":\"#2a3f5f\",\"gridcolor\":\"white\",\"linecolor\":\"white\",\"minorgridcolor\":\"white\",\"startlinecolor\":\"#2a3f5f\"},\"baxis\":{\"endlinecolor\":\"#2a3f5f\",\"gridcolor\":\"white\",\"linecolor\":\"white\",\"minorgridcolor\":\"white\",\"startlinecolor\":\"#2a3f5f\"},\"type\":\"carpet\"}],\"choropleth\":[{\"colorbar\":{\"outlinewidth\":0,\"ticks\":\"\"},\"type\":\"choropleth\"}],\"contourcarpet\":[{\"colorbar\":{\"outlinewidth\":0,\"ticks\":\"\"},\"type\":\"contourcarpet\"}],\"contour\":[{\"colorbar\":{\"outlinewidth\":0,\"ticks\":\"\"},\"colorscale\":[[0.0,\"#0d0887\"],[0.1111111111111111,\"#46039f\"],[0.2222222222222222,\"#7201a8\"],[0.3333333333333333,\"#9c179e\"],[0.4444444444444444,\"#bd3786\"],[0.5555555555555556,\"#d8576b\"],[0.6666666666666666,\"#ed7953\"],[0.7777777777777778,\"#fb9f3a\"],[0.8888888888888888,\"#fdca26\"],[1.0,\"#f0f921\"]],\"type\":\"contour\"}],\"heatmapgl\":[{\"colorbar\":{\"outlinewidth\":0,\"ticks\":\"\"},\"colorscale\":[[0.0,\"#0d0887\"],[0.1111111111111111,\"#46039f\"],[0.2222222222222222,\"#7201a8\"],[0.3333333333333333,\"#9c179e\"],[0.4444444444444444,\"#bd3786\"],[0.5555555555555556,\"#d8576b\"],[0.6666666666666666,\"#ed7953\"],[0.7777777777777778,\"#fb9f3a\"],[0.8888888888888888,\"#fdca26\"],[1.0,\"#f0f921\"]],\"type\":\"heatmapgl\"}],\"heatmap\":[{\"colorbar\":{\"outlinewidth\":0,\"ticks\":\"\"},\"colorscale\":[[0.0,\"#0d0887\"],[0.1111111111111111,\"#46039f\"],[0.2222222222222222,\"#7201a8\"],[0.3333333333333333,\"#9c179e\"],[0.4444444444444444,\"#bd3786\"],[0.5555555555555556,\"#d8576b\"],[0.6666666666666666,\"#ed7953\"],[0.7777777777777778,\"#fb9f3a\"],[0.8888888888888888,\"#fdca26\"],[1.0,\"#f0f921\"]],\"type\":\"heatmap\"}],\"histogram2dcontour\":[{\"colorbar\":{\"outlinewidth\":0,\"ticks\":\"\"},\"colorscale\":[[0.0,\"#0d0887\"],[0.1111111111111111,\"#46039f\"],[0.2222222222222222,\"#7201a8\"],[0.3333333333333333,\"#9c179e\"],[0.4444444444444444,\"#bd3786\"],[0.5555555555555556,\"#d8576b\"],[0.6666666666666666,\"#ed7953\"],[0.7777777777777778,\"#fb9f3a\"],[0.8888888888888888,\"#fdca26\"],[1.0,\"#f0f921\"]],\"type\":\"histogram2dcontour\"}],\"histogram2d\":[{\"colorbar\":{\"outlinewidth\":0,\"ticks\":\"\"},\"colorscale\":[[0.0,\"#0d0887\"],[0.1111111111111111,\"#46039f\"],[0.2222222222222222,\"#7201a8\"],[0.3333333333333333,\"#9c179e\"],[0.4444444444444444,\"#bd3786\"],[0.5555555555555556,\"#d8576b\"],[0.6666666666666666,\"#ed7953\"],[0.7777777777777778,\"#fb9f3a\"],[0.8888888888888888,\"#fdca26\"],[1.0,\"#f0f921\"]],\"type\":\"histogram2d\"}],\"histogram\":[{\"marker\":{\"pattern\":{\"fillmode\":\"overlay\",\"size\":10,\"solidity\":0.2}},\"type\":\"histogram\"}],\"mesh3d\":[{\"colorbar\":{\"outlinewidth\":0,\"ticks\":\"\"},\"type\":\"mesh3d\"}],\"parcoords\":[{\"line\":{\"colorbar\":{\"outlinewidth\":0,\"ticks\":\"\"}},\"type\":\"parcoords\"}],\"pie\":[{\"automargin\":true,\"type\":\"pie\"}],\"scatter3d\":[{\"line\":{\"colorbar\":{\"outlinewidth\":0,\"ticks\":\"\"}},\"marker\":{\"colorbar\":{\"outlinewidth\":0,\"ticks\":\"\"}},\"type\":\"scatter3d\"}],\"scattercarpet\":[{\"marker\":{\"colorbar\":{\"outlinewidth\":0,\"ticks\":\"\"}},\"type\":\"scattercarpet\"}],\"scattergeo\":[{\"marker\":{\"colorbar\":{\"outlinewidth\":0,\"ticks\":\"\"}},\"type\":\"scattergeo\"}],\"scattergl\":[{\"marker\":{\"colorbar\":{\"outlinewidth\":0,\"ticks\":\"\"}},\"type\":\"scattergl\"}],\"scattermapbox\":[{\"marker\":{\"colorbar\":{\"outlinewidth\":0,\"ticks\":\"\"}},\"type\":\"scattermapbox\"}],\"scatterpolargl\":[{\"marker\":{\"colorbar\":{\"outlinewidth\":0,\"ticks\":\"\"}},\"type\":\"scatterpolargl\"}],\"scatterpolar\":[{\"marker\":{\"colorbar\":{\"outlinewidth\":0,\"ticks\":\"\"}},\"type\":\"scatterpolar\"}],\"scatter\":[{\"fillpattern\":{\"fillmode\":\"overlay\",\"size\":10,\"solidity\":0.2},\"type\":\"scatter\"}],\"scatterternary\":[{\"marker\":{\"colorbar\":{\"outlinewidth\":0,\"ticks\":\"\"}},\"type\":\"scatterternary\"}],\"surface\":[{\"colorbar\":{\"outlinewidth\":0,\"ticks\":\"\"},\"colorscale\":[[0.0,\"#0d0887\"],[0.1111111111111111,\"#46039f\"],[0.2222222222222222,\"#7201a8\"],[0.3333333333333333,\"#9c179e\"],[0.4444444444444444,\"#bd3786\"],[0.5555555555555556,\"#d8576b\"],[0.6666666666666666,\"#ed7953\"],[0.7777777777777778,\"#fb9f3a\"],[0.8888888888888888,\"#fdca26\"],[1.0,\"#f0f921\"]],\"type\":\"surface\"}],\"table\":[{\"cells\":{\"fill\":{\"color\":\"#EBF0F8\"},\"line\":{\"color\":\"white\"}},\"header\":{\"fill\":{\"color\":\"#C8D4E3\"},\"line\":{\"color\":\"white\"}},\"type\":\"table\"}]},\"layout\":{\"annotationdefaults\":{\"arrowcolor\":\"#2a3f5f\",\"arrowhead\":0,\"arrowwidth\":1},\"autotypenumbers\":\"strict\",\"coloraxis\":{\"colorbar\":{\"outlinewidth\":0,\"ticks\":\"\"}},\"colorscale\":{\"diverging\":[[0,\"#8e0152\"],[0.1,\"#c51b7d\"],[0.2,\"#de77ae\"],[0.3,\"#f1b6da\"],[0.4,\"#fde0ef\"],[0.5,\"#f7f7f7\"],[0.6,\"#e6f5d0\"],[0.7,\"#b8e186\"],[0.8,\"#7fbc41\"],[0.9,\"#4d9221\"],[1,\"#276419\"]],\"sequential\":[[0.0,\"#0d0887\"],[0.1111111111111111,\"#46039f\"],[0.2222222222222222,\"#7201a8\"],[0.3333333333333333,\"#9c179e\"],[0.4444444444444444,\"#bd3786\"],[0.5555555555555556,\"#d8576b\"],[0.6666666666666666,\"#ed7953\"],[0.7777777777777778,\"#fb9f3a\"],[0.8888888888888888,\"#fdca26\"],[1.0,\"#f0f921\"]],\"sequentialminus\":[[0.0,\"#0d0887\"],[0.1111111111111111,\"#46039f\"],[0.2222222222222222,\"#7201a8\"],[0.3333333333333333,\"#9c179e\"],[0.4444444444444444,\"#bd3786\"],[0.5555555555555556,\"#d8576b\"],[0.6666666666666666,\"#ed7953\"],[0.7777777777777778,\"#fb9f3a\"],[0.8888888888888888,\"#fdca26\"],[1.0,\"#f0f921\"]]},\"colorway\":[\"#636efa\",\"#EF553B\",\"#00cc96\",\"#ab63fa\",\"#FFA15A\",\"#19d3f3\",\"#FF6692\",\"#B6E880\",\"#FF97FF\",\"#FECB52\"],\"font\":{\"color\":\"#2a3f5f\"},\"geo\":{\"bgcolor\":\"white\",\"lakecolor\":\"white\",\"landcolor\":\"#E5ECF6\",\"showlakes\":true,\"showland\":true,\"subunitcolor\":\"white\"},\"hoverlabel\":{\"align\":\"left\"},\"hovermode\":\"closest\",\"mapbox\":{\"style\":\"light\"},\"paper_bgcolor\":\"white\",\"plot_bgcolor\":\"#E5ECF6\",\"polar\":{\"angularaxis\":{\"gridcolor\":\"white\",\"linecolor\":\"white\",\"ticks\":\"\"},\"bgcolor\":\"#E5ECF6\",\"radialaxis\":{\"gridcolor\":\"white\",\"linecolor\":\"white\",\"ticks\":\"\"}},\"scene\":{\"xaxis\":{\"backgroundcolor\":\"#E5ECF6\",\"gridcolor\":\"white\",\"gridwidth\":2,\"linecolor\":\"white\",\"showbackground\":true,\"ticks\":\"\",\"zerolinecolor\":\"white\"},\"yaxis\":{\"backgroundcolor\":\"#E5ECF6\",\"gridcolor\":\"white\",\"gridwidth\":2,\"linecolor\":\"white\",\"showbackground\":true,\"ticks\":\"\",\"zerolinecolor\":\"white\"},\"zaxis\":{\"backgroundcolor\":\"#E5ECF6\",\"gridcolor\":\"white\",\"gridwidth\":2,\"linecolor\":\"white\",\"showbackground\":true,\"ticks\":\"\",\"zerolinecolor\":\"white\"}},\"shapedefaults\":{\"line\":{\"color\":\"#2a3f5f\"}},\"ternary\":{\"aaxis\":{\"gridcolor\":\"white\",\"linecolor\":\"white\",\"ticks\":\"\"},\"baxis\":{\"gridcolor\":\"white\",\"linecolor\":\"white\",\"ticks\":\"\"},\"bgcolor\":\"#E5ECF6\",\"caxis\":{\"gridcolor\":\"white\",\"linecolor\":\"white\",\"ticks\":\"\"}},\"title\":{\"x\":0.05},\"xaxis\":{\"automargin\":true,\"gridcolor\":\"white\",\"linecolor\":\"white\",\"ticks\":\"\",\"title\":{\"standoff\":15},\"zerolinecolor\":\"white\",\"zerolinewidth\":2},\"yaxis\":{\"automargin\":true,\"gridcolor\":\"white\",\"linecolor\":\"white\",\"ticks\":\"\",\"title\":{\"standoff\":15},\"zerolinecolor\":\"white\",\"zerolinewidth\":2}}},\"title\":{\"font\":{\"color\":\"#4D5663\"}},\"xaxis\":{\"gridcolor\":\"#E1E5ED\",\"showgrid\":true,\"tickfont\":{\"color\":\"#4D5663\"},\"title\":{\"font\":{\"color\":\"#4D5663\"},\"text\":\"\"},\"zerolinecolor\":\"#E1E5ED\"},\"yaxis\":{\"gridcolor\":\"#E1E5ED\",\"showgrid\":true,\"tickfont\":{\"color\":\"#4D5663\"},\"title\":{\"font\":{\"color\":\"#4D5663\"},\"text\":\"\"},\"zerolinecolor\":\"#E1E5ED\"}},                        {\"showLink\": true, \"linkText\": \"Export to plot.ly\", \"plotlyServerURL\": \"https://plot.ly\", \"responsive\": true}                    ).then(function(){\n",
       "                            \n",
       "var gd = document.getElementById('c2670ad4-47be-4393-b3e2-ec0f5a1ce681');\n",
       "var x = new MutationObserver(function (mutations, observer) {{\n",
       "        var display = window.getComputedStyle(gd).display;\n",
       "        if (!display || display === 'none') {{\n",
       "            console.log([gd, 'removed!']);\n",
       "            Plotly.purge(gd);\n",
       "            observer.disconnect();\n",
       "        }}\n",
       "}});\n",
       "\n",
       "// Listen for the removal of the full notebook cells\n",
       "var notebookContainer = gd.closest('#notebook-container');\n",
       "if (notebookContainer) {{\n",
       "    x.observe(notebookContainer, {childList: true});\n",
       "}}\n",
       "\n",
       "// Listen for the clearing of the current output cell\n",
       "var outputEl = gd.closest('.output');\n",
       "if (outputEl) {{\n",
       "    x.observe(outputEl, {childList: true});\n",
       "}}\n",
       "\n",
       "                        })                };                });            </script>        </div>"
      ]
     },
     "metadata": {},
     "output_type": "display_data"
    }
   ],
   "source": [
    "# 2024.03.25: 최신 pandas 버전에서는 doc.corr() 이 자동으로 문자컬럼을 제외하고, 계산해주지 않고, 에러를 냄\n",
    "# 2024.03.25: 다음과 같이 numeric_only=True 옵션을 기재해줘야 함\n",
    "# train.corr().iplot(kind='heatmap', colorscale='Blues')\n",
    "train_df.corr(numeric_only=True).iplot(kind='heatmap', colorscale='Blues')"
   ]
  },
  {
   "cell_type": "code",
   "execution_count": 541,
   "id": "e8a29414-2acc-463b-8cba-6e8e9e9c7fd5",
   "metadata": {},
   "outputs": [
    {
     "name": "stdout",
     "output_type": "stream",
     "text": [
      "The history saving thread hit an unexpected error (OperationalError('attempt to write a readonly database')).History will not be written to the database.\n",
      "<class 'pandas.core.frame.DataFrame'>\n",
      "Index: 178743 entries, 410225 to 306985\n",
      "Data columns (total 31 columns):\n",
      " #   Column                                                       Non-Null Count   Dtype  \n",
      "---  ------                                                       --------------   -----  \n",
      " 0   Patient Age at Treatment                                     178743 non-null  float64\n",
      " 1   Total Number of Previous IVF cycles                          178743 non-null  object \n",
      " 2   Total number of IVF pregnancies                              178743 non-null  object \n",
      " 3   Total number of live births - conceived through IVF          178743 non-null  int64  \n",
      " 4   Type of Infertility - Female Primary                         178743 non-null  int64  \n",
      " 5   Type of Infertility - Female Secondary                       178743 non-null  int64  \n",
      " 6   Type of Infertility - Male Primary                           178743 non-null  int64  \n",
      " 7   Type of Infertility - Male Secondary                         178743 non-null  int64  \n",
      " 8   Type of Infertility -Couple Primary                          178743 non-null  int64  \n",
      " 9   Type of Infertility -Couple Secondary                        178743 non-null  int64  \n",
      " 10  Cause  of Infertility - Tubal disease                        178743 non-null  int64  \n",
      " 11  Cause of Infertility - Ovulatory Disorder                    178743 non-null  int64  \n",
      " 12  Cause of Infertility - Male Factor                           178743 non-null  int64  \n",
      " 13  Cause of Infertility - Patient Unexplained                   178743 non-null  int64  \n",
      " 14  Cause of Infertility - Endometriosis                         178743 non-null  int64  \n",
      " 15  Cause of Infertility - Cervical factors                      178743 non-null  int64  \n",
      " 16  Cause of Infertility - Female Factors                        178743 non-null  int64  \n",
      " 17  Cause of Infertility - Partner Sperm Concentration           178743 non-null  int64  \n",
      " 18  Cause of Infertility -  Partner Sperm Morphology             178743 non-null  int64  \n",
      " 19  Causes of Infertility - Partner Sperm Motility               178743 non-null  int64  \n",
      " 20  Cause of Infertility -  Partner Sperm Immunological factors  178743 non-null  int64  \n",
      " 21  Stimulation used                                             178743 non-null  int64  \n",
      " 22  Egg Source                                                   178743 non-null  object \n",
      " 23  Sperm From                                                   178743 non-null  object \n",
      " 24  Fresh Cycle                                                  178743 non-null  float64\n",
      " 25  Frozen Cycle                                                 178743 non-null  float64\n",
      " 26  Eggs Thawed                                                  178743 non-null  float64\n",
      " 27  Fresh Eggs Collected                                         178743 non-null  object \n",
      " 28  Eggs Mixed With Partner Sperm                                178743 non-null  object \n",
      " 29  Embryos Transfered                                           178743 non-null  float64\n",
      " 30  Live Birth Occurrence                                        178743 non-null  float64\n",
      "dtypes: float64(6), int64(19), object(6)\n",
      "memory usage: 43.6+ MB\n"
     ]
    }
   ],
   "source": [
    "train_df.info()"
   ]
  },
  {
   "cell_type": "code",
   "execution_count": 549,
   "id": "094ef95b-4956-4aed-a7c4-a67f5257e942",
   "metadata": {},
   "outputs": [
    {
     "data": {
      "text/html": [
       "<div>\n",
       "<style scoped>\n",
       "    .dataframe tbody tr th:only-of-type {\n",
       "        vertical-align: middle;\n",
       "    }\n",
       "\n",
       "    .dataframe tbody tr th {\n",
       "        vertical-align: top;\n",
       "    }\n",
       "\n",
       "    .dataframe thead th {\n",
       "        text-align: right;\n",
       "    }\n",
       "</style>\n",
       "<table border=\"1\" class=\"dataframe\">\n",
       "  <thead>\n",
       "    <tr style=\"text-align: right;\">\n",
       "      <th></th>\n",
       "      <th>Patient Age at Treatment</th>\n",
       "      <th>Total Number of Previous IVF cycles</th>\n",
       "      <th>Total number of IVF pregnancies</th>\n",
       "      <th>Total number of live births - conceived through IVF</th>\n",
       "      <th>Type of Infertility - Female Primary</th>\n",
       "      <th>Type of Infertility - Female Secondary</th>\n",
       "      <th>Type of Infertility - Male Primary</th>\n",
       "      <th>Type of Infertility - Male Secondary</th>\n",
       "      <th>Type of Infertility -Couple Primary</th>\n",
       "      <th>Type of Infertility -Couple Secondary</th>\n",
       "      <th>...</th>\n",
       "      <th>Egg Source</th>\n",
       "      <th>Sperm From</th>\n",
       "      <th>Fresh Cycle</th>\n",
       "      <th>Frozen Cycle</th>\n",
       "      <th>Eggs Thawed</th>\n",
       "      <th>Fresh Eggs Collected</th>\n",
       "      <th>Eggs Mixed With Partner Sperm</th>\n",
       "      <th>Embryos Transfered</th>\n",
       "      <th>Live Birth Occurrence</th>\n",
       "      <th>Patient ID</th>\n",
       "    </tr>\n",
       "  </thead>\n",
       "  <tbody>\n",
       "    <tr>\n",
       "      <th>410225</th>\n",
       "      <td>2.0</td>\n",
       "      <td>0</td>\n",
       "      <td>0</td>\n",
       "      <td>0</td>\n",
       "      <td>0</td>\n",
       "      <td>0</td>\n",
       "      <td>0</td>\n",
       "      <td>0</td>\n",
       "      <td>0</td>\n",
       "      <td>0</td>\n",
       "      <td>...</td>\n",
       "      <td>Patient</td>\n",
       "      <td>Partner</td>\n",
       "      <td>1.0</td>\n",
       "      <td>0.0</td>\n",
       "      <td>0.0</td>\n",
       "      <td>11</td>\n",
       "      <td>11</td>\n",
       "      <td>1.0</td>\n",
       "      <td>0.0</td>\n",
       "      <td>167176</td>\n",
       "    </tr>\n",
       "    <tr>\n",
       "      <th>426356</th>\n",
       "      <td>2.0</td>\n",
       "      <td>0</td>\n",
       "      <td>0</td>\n",
       "      <td>0</td>\n",
       "      <td>0</td>\n",
       "      <td>0</td>\n",
       "      <td>0</td>\n",
       "      <td>0</td>\n",
       "      <td>0</td>\n",
       "      <td>0</td>\n",
       "      <td>...</td>\n",
       "      <td>Patient</td>\n",
       "      <td>Partner</td>\n",
       "      <td>1.0</td>\n",
       "      <td>0.0</td>\n",
       "      <td>0.0</td>\n",
       "      <td>1</td>\n",
       "      <td>1</td>\n",
       "      <td>1.0</td>\n",
       "      <td>1.0</td>\n",
       "      <td>174255</td>\n",
       "    </tr>\n",
       "    <tr>\n",
       "      <th>72623</th>\n",
       "      <td>1.0</td>\n",
       "      <td>0</td>\n",
       "      <td>0</td>\n",
       "      <td>0</td>\n",
       "      <td>0</td>\n",
       "      <td>0</td>\n",
       "      <td>0</td>\n",
       "      <td>0</td>\n",
       "      <td>0</td>\n",
       "      <td>0</td>\n",
       "      <td>...</td>\n",
       "      <td>Patient</td>\n",
       "      <td>Partner</td>\n",
       "      <td>1.0</td>\n",
       "      <td>0.0</td>\n",
       "      <td>0.0</td>\n",
       "      <td>13</td>\n",
       "      <td>13</td>\n",
       "      <td>1.0</td>\n",
       "      <td>0.0</td>\n",
       "      <td>29620</td>\n",
       "    </tr>\n",
       "    <tr>\n",
       "      <th>400026</th>\n",
       "      <td>3.0</td>\n",
       "      <td>2</td>\n",
       "      <td>1</td>\n",
       "      <td>0</td>\n",
       "      <td>0</td>\n",
       "      <td>0</td>\n",
       "      <td>0</td>\n",
       "      <td>0</td>\n",
       "      <td>0</td>\n",
       "      <td>0</td>\n",
       "      <td>...</td>\n",
       "      <td>Patient</td>\n",
       "      <td>Partner</td>\n",
       "      <td>1.0</td>\n",
       "      <td>0.0</td>\n",
       "      <td>0.0</td>\n",
       "      <td>7</td>\n",
       "      <td>6</td>\n",
       "      <td>3.0</td>\n",
       "      <td>0.0</td>\n",
       "      <td>162767</td>\n",
       "    </tr>\n",
       "    <tr>\n",
       "      <th>311355</th>\n",
       "      <td>3.0</td>\n",
       "      <td>1</td>\n",
       "      <td>0</td>\n",
       "      <td>0</td>\n",
       "      <td>0</td>\n",
       "      <td>0</td>\n",
       "      <td>0</td>\n",
       "      <td>0</td>\n",
       "      <td>0</td>\n",
       "      <td>0</td>\n",
       "      <td>...</td>\n",
       "      <td>Patient</td>\n",
       "      <td>Partner</td>\n",
       "      <td>1.0</td>\n",
       "      <td>0.0</td>\n",
       "      <td>0.0</td>\n",
       "      <td>8</td>\n",
       "      <td>5</td>\n",
       "      <td>2.0</td>\n",
       "      <td>0.0</td>\n",
       "      <td>123844</td>\n",
       "    </tr>\n",
       "  </tbody>\n",
       "</table>\n",
       "<p>5 rows × 32 columns</p>\n",
       "</div>"
      ],
      "text/plain": [
       "        Patient Age at Treatment Total Number of Previous IVF cycles  \\\n",
       "410225                       2.0                                   0   \n",
       "426356                       2.0                                   0   \n",
       "72623                        1.0                                   0   \n",
       "400026                       3.0                                   2   \n",
       "311355                       3.0                                   1   \n",
       "\n",
       "       Total number of IVF pregnancies  \\\n",
       "410225                               0   \n",
       "426356                               0   \n",
       "72623                                0   \n",
       "400026                               1   \n",
       "311355                               0   \n",
       "\n",
       "        Total number of live births - conceived through IVF  \\\n",
       "410225                                                  0     \n",
       "426356                                                  0     \n",
       "72623                                                   0     \n",
       "400026                                                  0     \n",
       "311355                                                  0     \n",
       "\n",
       "        Type of Infertility - Female Primary  \\\n",
       "410225                                     0   \n",
       "426356                                     0   \n",
       "72623                                      0   \n",
       "400026                                     0   \n",
       "311355                                     0   \n",
       "\n",
       "        Type of Infertility - Female Secondary  \\\n",
       "410225                                       0   \n",
       "426356                                       0   \n",
       "72623                                        0   \n",
       "400026                                       0   \n",
       "311355                                       0   \n",
       "\n",
       "        Type of Infertility - Male Primary  \\\n",
       "410225                                   0   \n",
       "426356                                   0   \n",
       "72623                                    0   \n",
       "400026                                   0   \n",
       "311355                                   0   \n",
       "\n",
       "        Type of Infertility - Male Secondary  \\\n",
       "410225                                     0   \n",
       "426356                                     0   \n",
       "72623                                      0   \n",
       "400026                                     0   \n",
       "311355                                     0   \n",
       "\n",
       "        Type of Infertility -Couple Primary  \\\n",
       "410225                                    0   \n",
       "426356                                    0   \n",
       "72623                                     0   \n",
       "400026                                    0   \n",
       "311355                                    0   \n",
       "\n",
       "        Type of Infertility -Couple Secondary  ...  Egg Source  Sperm From  \\\n",
       "410225                                      0  ...     Patient     Partner   \n",
       "426356                                      0  ...     Patient     Partner   \n",
       "72623                                       0  ...     Patient     Partner   \n",
       "400026                                      0  ...     Patient     Partner   \n",
       "311355                                      0  ...     Patient     Partner   \n",
       "\n",
       "        Fresh Cycle  Frozen Cycle  Eggs Thawed  Fresh Eggs Collected  \\\n",
       "410225          1.0           0.0          0.0                    11   \n",
       "426356          1.0           0.0          0.0                     1   \n",
       "72623           1.0           0.0          0.0                    13   \n",
       "400026          1.0           0.0          0.0                     7   \n",
       "311355          1.0           0.0          0.0                     8   \n",
       "\n",
       "        Eggs Mixed With Partner Sperm  Embryos Transfered  \\\n",
       "410225                             11                 1.0   \n",
       "426356                              1                 1.0   \n",
       "72623                              13                 1.0   \n",
       "400026                              6                 3.0   \n",
       "311355                              5                 2.0   \n",
       "\n",
       "        Live Birth Occurrence  Patient ID  \n",
       "410225                    0.0      167176  \n",
       "426356                    1.0      174255  \n",
       "72623                     0.0       29620  \n",
       "400026                    0.0      162767  \n",
       "311355                    0.0      123844  \n",
       "\n",
       "[5 rows x 32 columns]"
      ]
     },
     "execution_count": 549,
     "metadata": {},
     "output_type": "execute_result"
    }
   ],
   "source": [
    "train_df.head()"
   ]
  },
  {
   "cell_type": "code",
   "execution_count": 586,
   "id": "7c7c7290-892b-46b8-9cd3-35c370506a60",
   "metadata": {},
   "outputs": [
    {
     "data": {
      "text/html": [
       "<div>\n",
       "<style scoped>\n",
       "    .dataframe tbody tr th:only-of-type {\n",
       "        vertical-align: middle;\n",
       "    }\n",
       "\n",
       "    .dataframe tbody tr th {\n",
       "        vertical-align: top;\n",
       "    }\n",
       "\n",
       "    .dataframe thead th {\n",
       "        text-align: right;\n",
       "    }\n",
       "</style>\n",
       "<table border=\"1\" class=\"dataframe\">\n",
       "  <thead>\n",
       "    <tr style=\"text-align: right;\">\n",
       "      <th></th>\n",
       "      <th>Patient Age at Treatment</th>\n",
       "      <th>Total Number of Previous IVF cycles</th>\n",
       "      <th>Total number of IVF pregnancies</th>\n",
       "      <th>Total number of live births - conceived through IVF</th>\n",
       "      <th>Type of Infertility - Female Primary</th>\n",
       "      <th>Type of Infertility - Female Secondary</th>\n",
       "      <th>Type of Infertility - Male Primary</th>\n",
       "      <th>Type of Infertility - Male Secondary</th>\n",
       "      <th>Type of Infertility -Couple Primary</th>\n",
       "      <th>Type of Infertility -Couple Secondary</th>\n",
       "      <th>...</th>\n",
       "      <th>Stimulation used</th>\n",
       "      <th>Egg Source</th>\n",
       "      <th>Sperm From</th>\n",
       "      <th>Fresh Cycle</th>\n",
       "      <th>Frozen Cycle</th>\n",
       "      <th>Eggs Thawed</th>\n",
       "      <th>Fresh Eggs Collected</th>\n",
       "      <th>Eggs Mixed With Partner Sperm</th>\n",
       "      <th>Embryos Transfered</th>\n",
       "      <th>Live Birth Occurrence</th>\n",
       "    </tr>\n",
       "  </thead>\n",
       "  <tbody>\n",
       "    <tr>\n",
       "      <th>1</th>\n",
       "      <td>45-50</td>\n",
       "      <td>3</td>\n",
       "      <td>0</td>\n",
       "      <td>0</td>\n",
       "      <td>0</td>\n",
       "      <td>0</td>\n",
       "      <td>0</td>\n",
       "      <td>0</td>\n",
       "      <td>0</td>\n",
       "      <td>0</td>\n",
       "      <td>...</td>\n",
       "      <td>1</td>\n",
       "      <td>Patient</td>\n",
       "      <td>Partner</td>\n",
       "      <td>1.0</td>\n",
       "      <td>0.0</td>\n",
       "      <td>0.0</td>\n",
       "      <td>4</td>\n",
       "      <td>3</td>\n",
       "      <td>2.0</td>\n",
       "      <td>0.0</td>\n",
       "    </tr>\n",
       "    <tr>\n",
       "      <th>2</th>\n",
       "      <td>35-37</td>\n",
       "      <td>0</td>\n",
       "      <td>0</td>\n",
       "      <td>0</td>\n",
       "      <td>0</td>\n",
       "      <td>0</td>\n",
       "      <td>0</td>\n",
       "      <td>0</td>\n",
       "      <td>0</td>\n",
       "      <td>0</td>\n",
       "      <td>...</td>\n",
       "      <td>1</td>\n",
       "      <td>Patient</td>\n",
       "      <td>Partner</td>\n",
       "      <td>1.0</td>\n",
       "      <td>0.0</td>\n",
       "      <td>0.0</td>\n",
       "      <td>12</td>\n",
       "      <td>0</td>\n",
       "      <td>0.0</td>\n",
       "      <td>0.0</td>\n",
       "    </tr>\n",
       "    <tr>\n",
       "      <th>8</th>\n",
       "      <td>18 - 34</td>\n",
       "      <td>3</td>\n",
       "      <td>0</td>\n",
       "      <td>0</td>\n",
       "      <td>0</td>\n",
       "      <td>0</td>\n",
       "      <td>0</td>\n",
       "      <td>0</td>\n",
       "      <td>0</td>\n",
       "      <td>0</td>\n",
       "      <td>...</td>\n",
       "      <td>1</td>\n",
       "      <td>Patient</td>\n",
       "      <td>Partner</td>\n",
       "      <td>1.0</td>\n",
       "      <td>0.0</td>\n",
       "      <td>0.0</td>\n",
       "      <td>31</td>\n",
       "      <td>13</td>\n",
       "      <td>0.0</td>\n",
       "      <td>0.0</td>\n",
       "    </tr>\n",
       "    <tr>\n",
       "      <th>14</th>\n",
       "      <td>18 - 34</td>\n",
       "      <td>0</td>\n",
       "      <td>0</td>\n",
       "      <td>0</td>\n",
       "      <td>0</td>\n",
       "      <td>0</td>\n",
       "      <td>0</td>\n",
       "      <td>0</td>\n",
       "      <td>0</td>\n",
       "      <td>0</td>\n",
       "      <td>...</td>\n",
       "      <td>1</td>\n",
       "      <td>Patient</td>\n",
       "      <td>Partner</td>\n",
       "      <td>1.0</td>\n",
       "      <td>0.0</td>\n",
       "      <td>0.0</td>\n",
       "      <td>8</td>\n",
       "      <td>8</td>\n",
       "      <td>0.0</td>\n",
       "      <td>0.0</td>\n",
       "    </tr>\n",
       "    <tr>\n",
       "      <th>15</th>\n",
       "      <td>35-37</td>\n",
       "      <td>0</td>\n",
       "      <td>0</td>\n",
       "      <td>0</td>\n",
       "      <td>0</td>\n",
       "      <td>0</td>\n",
       "      <td>0</td>\n",
       "      <td>0</td>\n",
       "      <td>0</td>\n",
       "      <td>0</td>\n",
       "      <td>...</td>\n",
       "      <td>1</td>\n",
       "      <td>Patient</td>\n",
       "      <td>Partner</td>\n",
       "      <td>1.0</td>\n",
       "      <td>0.0</td>\n",
       "      <td>0.0</td>\n",
       "      <td>11</td>\n",
       "      <td>11</td>\n",
       "      <td>1.0</td>\n",
       "      <td>0.0</td>\n",
       "    </tr>\n",
       "  </tbody>\n",
       "</table>\n",
       "<p>5 rows × 31 columns</p>\n",
       "</div>"
      ],
      "text/plain": [
       "   Patient Age at Treatment Total Number of Previous IVF cycles  \\\n",
       "1                     45-50                                   3   \n",
       "2                     35-37                                   0   \n",
       "8                   18 - 34                                   3   \n",
       "14                  18 - 34                                   0   \n",
       "15                    35-37                                   0   \n",
       "\n",
       "   Total number of IVF pregnancies  \\\n",
       "1                                0   \n",
       "2                                0   \n",
       "8                                0   \n",
       "14                               0   \n",
       "15                               0   \n",
       "\n",
       "    Total number of live births - conceived through IVF  \\\n",
       "1                                                   0     \n",
       "2                                                   0     \n",
       "8                                                   0     \n",
       "14                                                  0     \n",
       "15                                                  0     \n",
       "\n",
       "    Type of Infertility - Female Primary  \\\n",
       "1                                      0   \n",
       "2                                      0   \n",
       "8                                      0   \n",
       "14                                     0   \n",
       "15                                     0   \n",
       "\n",
       "    Type of Infertility - Female Secondary  \\\n",
       "1                                        0   \n",
       "2                                        0   \n",
       "8                                        0   \n",
       "14                                       0   \n",
       "15                                       0   \n",
       "\n",
       "    Type of Infertility - Male Primary  Type of Infertility - Male Secondary  \\\n",
       "1                                    0                                     0   \n",
       "2                                    0                                     0   \n",
       "8                                    0                                     0   \n",
       "14                                   0                                     0   \n",
       "15                                   0                                     0   \n",
       "\n",
       "    Type of Infertility -Couple Primary  \\\n",
       "1                                     0   \n",
       "2                                     0   \n",
       "8                                     0   \n",
       "14                                    0   \n",
       "15                                    0   \n",
       "\n",
       "    Type of Infertility -Couple Secondary  ...  Stimulation used  Egg Source  \\\n",
       "1                                       0  ...                 1     Patient   \n",
       "2                                       0  ...                 1     Patient   \n",
       "8                                       0  ...                 1     Patient   \n",
       "14                                      0  ...                 1     Patient   \n",
       "15                                      0  ...                 1     Patient   \n",
       "\n",
       "    Sperm From  Fresh Cycle  Frozen Cycle  Eggs Thawed  Fresh Eggs Collected  \\\n",
       "1      Partner          1.0           0.0          0.0                     4   \n",
       "2      Partner          1.0           0.0          0.0                    12   \n",
       "8      Partner          1.0           0.0          0.0                    31   \n",
       "14     Partner          1.0           0.0          0.0                     8   \n",
       "15     Partner          1.0           0.0          0.0                    11   \n",
       "\n",
       "    Eggs Mixed With Partner Sperm  Embryos Transfered  Live Birth Occurrence  \n",
       "1                               3                 2.0                    0.0  \n",
       "2                               0                 0.0                    0.0  \n",
       "8                              13                 0.0                    0.0  \n",
       "14                              8                 0.0                    0.0  \n",
       "15                             11                 1.0                    0.0  \n",
       "\n",
       "[5 rows x 31 columns]"
      ]
     },
     "execution_count": 586,
     "metadata": {},
     "output_type": "execute_result"
    }
   ],
   "source": [
    "b.head()"
   ]
  },
  {
   "cell_type": "code",
   "execution_count": 618,
   "id": "4fe20787-2b9c-4122-acad-2f71401ad80c",
   "metadata": {},
   "outputs": [],
   "source": [
    "df = b.copy()"
   ]
  },
  {
   "cell_type": "code",
   "execution_count": 620,
   "id": "47549544-0a7e-4961-94a0-95d6c607b8a5",
   "metadata": {},
   "outputs": [
    {
     "data": {
      "text/html": [
       "<div>\n",
       "<style scoped>\n",
       "    .dataframe tbody tr th:only-of-type {\n",
       "        vertical-align: middle;\n",
       "    }\n",
       "\n",
       "    .dataframe tbody tr th {\n",
       "        vertical-align: top;\n",
       "    }\n",
       "\n",
       "    .dataframe thead th {\n",
       "        text-align: right;\n",
       "    }\n",
       "</style>\n",
       "<table border=\"1\" class=\"dataframe\">\n",
       "  <thead>\n",
       "    <tr style=\"text-align: right;\">\n",
       "      <th></th>\n",
       "      <th>Patient Age at Treatment</th>\n",
       "      <th>Total Number of Previous IVF cycles</th>\n",
       "      <th>Total number of IVF pregnancies</th>\n",
       "      <th>Total number of live births - conceived through IVF</th>\n",
       "      <th>Type of Infertility - Female Primary</th>\n",
       "      <th>Type of Infertility - Female Secondary</th>\n",
       "      <th>Type of Infertility - Male Primary</th>\n",
       "      <th>Type of Infertility - Male Secondary</th>\n",
       "      <th>Type of Infertility -Couple Primary</th>\n",
       "      <th>Type of Infertility -Couple Secondary</th>\n",
       "      <th>...</th>\n",
       "      <th>Stimulation used</th>\n",
       "      <th>Egg Source</th>\n",
       "      <th>Sperm From</th>\n",
       "      <th>Fresh Cycle</th>\n",
       "      <th>Frozen Cycle</th>\n",
       "      <th>Eggs Thawed</th>\n",
       "      <th>Fresh Eggs Collected</th>\n",
       "      <th>Eggs Mixed With Partner Sperm</th>\n",
       "      <th>Embryos Transfered</th>\n",
       "      <th>Live Birth Occurrence</th>\n",
       "    </tr>\n",
       "  </thead>\n",
       "  <tbody>\n",
       "    <tr>\n",
       "      <th>1</th>\n",
       "      <td>45-50</td>\n",
       "      <td>3</td>\n",
       "      <td>0</td>\n",
       "      <td>0</td>\n",
       "      <td>0</td>\n",
       "      <td>0</td>\n",
       "      <td>0</td>\n",
       "      <td>0</td>\n",
       "      <td>0</td>\n",
       "      <td>0</td>\n",
       "      <td>...</td>\n",
       "      <td>1</td>\n",
       "      <td>Patient</td>\n",
       "      <td>Partner</td>\n",
       "      <td>1.0</td>\n",
       "      <td>0.0</td>\n",
       "      <td>0.0</td>\n",
       "      <td>4</td>\n",
       "      <td>3</td>\n",
       "      <td>2.0</td>\n",
       "      <td>0.0</td>\n",
       "    </tr>\n",
       "    <tr>\n",
       "      <th>2</th>\n",
       "      <td>35-37</td>\n",
       "      <td>0</td>\n",
       "      <td>0</td>\n",
       "      <td>0</td>\n",
       "      <td>0</td>\n",
       "      <td>0</td>\n",
       "      <td>0</td>\n",
       "      <td>0</td>\n",
       "      <td>0</td>\n",
       "      <td>0</td>\n",
       "      <td>...</td>\n",
       "      <td>1</td>\n",
       "      <td>Patient</td>\n",
       "      <td>Partner</td>\n",
       "      <td>1.0</td>\n",
       "      <td>0.0</td>\n",
       "      <td>0.0</td>\n",
       "      <td>12</td>\n",
       "      <td>0</td>\n",
       "      <td>0.0</td>\n",
       "      <td>0.0</td>\n",
       "    </tr>\n",
       "    <tr>\n",
       "      <th>8</th>\n",
       "      <td>18 - 34</td>\n",
       "      <td>3</td>\n",
       "      <td>0</td>\n",
       "      <td>0</td>\n",
       "      <td>0</td>\n",
       "      <td>0</td>\n",
       "      <td>0</td>\n",
       "      <td>0</td>\n",
       "      <td>0</td>\n",
       "      <td>0</td>\n",
       "      <td>...</td>\n",
       "      <td>1</td>\n",
       "      <td>Patient</td>\n",
       "      <td>Partner</td>\n",
       "      <td>1.0</td>\n",
       "      <td>0.0</td>\n",
       "      <td>0.0</td>\n",
       "      <td>31</td>\n",
       "      <td>13</td>\n",
       "      <td>0.0</td>\n",
       "      <td>0.0</td>\n",
       "    </tr>\n",
       "    <tr>\n",
       "      <th>14</th>\n",
       "      <td>18 - 34</td>\n",
       "      <td>0</td>\n",
       "      <td>0</td>\n",
       "      <td>0</td>\n",
       "      <td>0</td>\n",
       "      <td>0</td>\n",
       "      <td>0</td>\n",
       "      <td>0</td>\n",
       "      <td>0</td>\n",
       "      <td>0</td>\n",
       "      <td>...</td>\n",
       "      <td>1</td>\n",
       "      <td>Patient</td>\n",
       "      <td>Partner</td>\n",
       "      <td>1.0</td>\n",
       "      <td>0.0</td>\n",
       "      <td>0.0</td>\n",
       "      <td>8</td>\n",
       "      <td>8</td>\n",
       "      <td>0.0</td>\n",
       "      <td>0.0</td>\n",
       "    </tr>\n",
       "    <tr>\n",
       "      <th>15</th>\n",
       "      <td>35-37</td>\n",
       "      <td>0</td>\n",
       "      <td>0</td>\n",
       "      <td>0</td>\n",
       "      <td>0</td>\n",
       "      <td>0</td>\n",
       "      <td>0</td>\n",
       "      <td>0</td>\n",
       "      <td>0</td>\n",
       "      <td>0</td>\n",
       "      <td>...</td>\n",
       "      <td>1</td>\n",
       "      <td>Patient</td>\n",
       "      <td>Partner</td>\n",
       "      <td>1.0</td>\n",
       "      <td>0.0</td>\n",
       "      <td>0.0</td>\n",
       "      <td>11</td>\n",
       "      <td>11</td>\n",
       "      <td>1.0</td>\n",
       "      <td>0.0</td>\n",
       "    </tr>\n",
       "  </tbody>\n",
       "</table>\n",
       "<p>5 rows × 31 columns</p>\n",
       "</div>"
      ],
      "text/plain": [
       "   Patient Age at Treatment Total Number of Previous IVF cycles  \\\n",
       "1                     45-50                                   3   \n",
       "2                     35-37                                   0   \n",
       "8                   18 - 34                                   3   \n",
       "14                  18 - 34                                   0   \n",
       "15                    35-37                                   0   \n",
       "\n",
       "   Total number of IVF pregnancies  \\\n",
       "1                                0   \n",
       "2                                0   \n",
       "8                                0   \n",
       "14                               0   \n",
       "15                               0   \n",
       "\n",
       "    Total number of live births - conceived through IVF  \\\n",
       "1                                                   0     \n",
       "2                                                   0     \n",
       "8                                                   0     \n",
       "14                                                  0     \n",
       "15                                                  0     \n",
       "\n",
       "    Type of Infertility - Female Primary  \\\n",
       "1                                      0   \n",
       "2                                      0   \n",
       "8                                      0   \n",
       "14                                     0   \n",
       "15                                     0   \n",
       "\n",
       "    Type of Infertility - Female Secondary  \\\n",
       "1                                        0   \n",
       "2                                        0   \n",
       "8                                        0   \n",
       "14                                       0   \n",
       "15                                       0   \n",
       "\n",
       "    Type of Infertility - Male Primary  Type of Infertility - Male Secondary  \\\n",
       "1                                    0                                     0   \n",
       "2                                    0                                     0   \n",
       "8                                    0                                     0   \n",
       "14                                   0                                     0   \n",
       "15                                   0                                     0   \n",
       "\n",
       "    Type of Infertility -Couple Primary  \\\n",
       "1                                     0   \n",
       "2                                     0   \n",
       "8                                     0   \n",
       "14                                    0   \n",
       "15                                    0   \n",
       "\n",
       "    Type of Infertility -Couple Secondary  ...  Stimulation used  Egg Source  \\\n",
       "1                                       0  ...                 1     Patient   \n",
       "2                                       0  ...                 1     Patient   \n",
       "8                                       0  ...                 1     Patient   \n",
       "14                                      0  ...                 1     Patient   \n",
       "15                                      0  ...                 1     Patient   \n",
       "\n",
       "    Sperm From  Fresh Cycle  Frozen Cycle  Eggs Thawed  Fresh Eggs Collected  \\\n",
       "1      Partner          1.0           0.0          0.0                     4   \n",
       "2      Partner          1.0           0.0          0.0                    12   \n",
       "8      Partner          1.0           0.0          0.0                    31   \n",
       "14     Partner          1.0           0.0          0.0                     8   \n",
       "15     Partner          1.0           0.0          0.0                    11   \n",
       "\n",
       "    Eggs Mixed With Partner Sperm  Embryos Transfered  Live Birth Occurrence  \n",
       "1                               3                 2.0                    0.0  \n",
       "2                               0                 0.0                    0.0  \n",
       "8                              13                 0.0                    0.0  \n",
       "14                              8                 0.0                    0.0  \n",
       "15                             11                 1.0                    0.0  \n",
       "\n",
       "[5 rows x 31 columns]"
      ]
     },
     "execution_count": 620,
     "metadata": {},
     "output_type": "execute_result"
    }
   ],
   "source": [
    "df.head()"
   ]
  },
  {
   "cell_type": "code",
   "execution_count": 628,
   "id": "7c138746-4d11-4379-b226-575c6d0b1799",
   "metadata": {},
   "outputs": [
    {
     "data": {
      "text/html": [
       "<div>\n",
       "<style scoped>\n",
       "    .dataframe tbody tr th:only-of-type {\n",
       "        vertical-align: middle;\n",
       "    }\n",
       "\n",
       "    .dataframe tbody tr th {\n",
       "        vertical-align: top;\n",
       "    }\n",
       "\n",
       "    .dataframe thead th {\n",
       "        text-align: right;\n",
       "    }\n",
       "</style>\n",
       "<table border=\"1\" class=\"dataframe\">\n",
       "  <thead>\n",
       "    <tr style=\"text-align: right;\">\n",
       "      <th></th>\n",
       "      <th>Patient ID</th>\n",
       "      <th>Patient Age at Treatment</th>\n",
       "      <th>Total Number of Previous IVF cycles</th>\n",
       "      <th>Total number of IVF pregnancies</th>\n",
       "      <th>Total number of live births - conceived through IVF</th>\n",
       "      <th>Type of Infertility - Female Primary</th>\n",
       "      <th>Type of Infertility - Female Secondary</th>\n",
       "      <th>Type of Infertility - Male Primary</th>\n",
       "      <th>Type of Infertility - Male Secondary</th>\n",
       "      <th>Type of Infertility -Couple Primary</th>\n",
       "      <th>...</th>\n",
       "      <th>Stimulation used</th>\n",
       "      <th>Egg Source</th>\n",
       "      <th>Sperm From</th>\n",
       "      <th>Fresh Cycle</th>\n",
       "      <th>Frozen Cycle</th>\n",
       "      <th>Eggs Thawed</th>\n",
       "      <th>Fresh Eggs Collected</th>\n",
       "      <th>Eggs Mixed With Partner Sperm</th>\n",
       "      <th>Embryos Transfered</th>\n",
       "      <th>Live Birth Occurrence</th>\n",
       "    </tr>\n",
       "  </thead>\n",
       "  <tbody>\n",
       "    <tr>\n",
       "      <th>1</th>\n",
       "      <td>0</td>\n",
       "      <td>5</td>\n",
       "      <td>3</td>\n",
       "      <td>0</td>\n",
       "      <td>0</td>\n",
       "      <td>0</td>\n",
       "      <td>0</td>\n",
       "      <td>0</td>\n",
       "      <td>0</td>\n",
       "      <td>0</td>\n",
       "      <td>...</td>\n",
       "      <td>1</td>\n",
       "      <td>Patient</td>\n",
       "      <td>Partner</td>\n",
       "      <td>1.0</td>\n",
       "      <td>0.0</td>\n",
       "      <td>0.0</td>\n",
       "      <td>4</td>\n",
       "      <td>3</td>\n",
       "      <td>2.0</td>\n",
       "      <td>0.0</td>\n",
       "    </tr>\n",
       "    <tr>\n",
       "      <th>2</th>\n",
       "      <td>1</td>\n",
       "      <td>1</td>\n",
       "      <td>0</td>\n",
       "      <td>0</td>\n",
       "      <td>0</td>\n",
       "      <td>0</td>\n",
       "      <td>0</td>\n",
       "      <td>0</td>\n",
       "      <td>0</td>\n",
       "      <td>0</td>\n",
       "      <td>...</td>\n",
       "      <td>1</td>\n",
       "      <td>Patient</td>\n",
       "      <td>Partner</td>\n",
       "      <td>1.0</td>\n",
       "      <td>0.0</td>\n",
       "      <td>0.0</td>\n",
       "      <td>12</td>\n",
       "      <td>0</td>\n",
       "      <td>0.0</td>\n",
       "      <td>0.0</td>\n",
       "    </tr>\n",
       "    <tr>\n",
       "      <th>8</th>\n",
       "      <td>2</td>\n",
       "      <td>999</td>\n",
       "      <td>3</td>\n",
       "      <td>0</td>\n",
       "      <td>0</td>\n",
       "      <td>0</td>\n",
       "      <td>0</td>\n",
       "      <td>0</td>\n",
       "      <td>0</td>\n",
       "      <td>0</td>\n",
       "      <td>...</td>\n",
       "      <td>1</td>\n",
       "      <td>Patient</td>\n",
       "      <td>Partner</td>\n",
       "      <td>1.0</td>\n",
       "      <td>0.0</td>\n",
       "      <td>0.0</td>\n",
       "      <td>31</td>\n",
       "      <td>13</td>\n",
       "      <td>0.0</td>\n",
       "      <td>0.0</td>\n",
       "    </tr>\n",
       "    <tr>\n",
       "      <th>14</th>\n",
       "      <td>3</td>\n",
       "      <td>999</td>\n",
       "      <td>0</td>\n",
       "      <td>0</td>\n",
       "      <td>0</td>\n",
       "      <td>0</td>\n",
       "      <td>0</td>\n",
       "      <td>0</td>\n",
       "      <td>0</td>\n",
       "      <td>0</td>\n",
       "      <td>...</td>\n",
       "      <td>1</td>\n",
       "      <td>Patient</td>\n",
       "      <td>Partner</td>\n",
       "      <td>1.0</td>\n",
       "      <td>0.0</td>\n",
       "      <td>0.0</td>\n",
       "      <td>8</td>\n",
       "      <td>8</td>\n",
       "      <td>0.0</td>\n",
       "      <td>0.0</td>\n",
       "    </tr>\n",
       "    <tr>\n",
       "      <th>15</th>\n",
       "      <td>4</td>\n",
       "      <td>1</td>\n",
       "      <td>0</td>\n",
       "      <td>0</td>\n",
       "      <td>0</td>\n",
       "      <td>0</td>\n",
       "      <td>0</td>\n",
       "      <td>0</td>\n",
       "      <td>0</td>\n",
       "      <td>0</td>\n",
       "      <td>...</td>\n",
       "      <td>1</td>\n",
       "      <td>Patient</td>\n",
       "      <td>Partner</td>\n",
       "      <td>1.0</td>\n",
       "      <td>0.0</td>\n",
       "      <td>0.0</td>\n",
       "      <td>11</td>\n",
       "      <td>11</td>\n",
       "      <td>1.0</td>\n",
       "      <td>0.0</td>\n",
       "    </tr>\n",
       "  </tbody>\n",
       "</table>\n",
       "<p>5 rows × 32 columns</p>\n",
       "</div>"
      ],
      "text/plain": [
       "    Patient ID  Patient Age at Treatment Total Number of Previous IVF cycles  \\\n",
       "1            0                         5                                   3   \n",
       "2            1                         1                                   0   \n",
       "8            2                       999                                   3   \n",
       "14           3                       999                                   0   \n",
       "15           4                         1                                   0   \n",
       "\n",
       "   Total number of IVF pregnancies  \\\n",
       "1                                0   \n",
       "2                                0   \n",
       "8                                0   \n",
       "14                               0   \n",
       "15                               0   \n",
       "\n",
       "    Total number of live births - conceived through IVF  \\\n",
       "1                                                   0     \n",
       "2                                                   0     \n",
       "8                                                   0     \n",
       "14                                                  0     \n",
       "15                                                  0     \n",
       "\n",
       "    Type of Infertility - Female Primary  \\\n",
       "1                                      0   \n",
       "2                                      0   \n",
       "8                                      0   \n",
       "14                                     0   \n",
       "15                                     0   \n",
       "\n",
       "    Type of Infertility - Female Secondary  \\\n",
       "1                                        0   \n",
       "2                                        0   \n",
       "8                                        0   \n",
       "14                                       0   \n",
       "15                                       0   \n",
       "\n",
       "    Type of Infertility - Male Primary  Type of Infertility - Male Secondary  \\\n",
       "1                                    0                                     0   \n",
       "2                                    0                                     0   \n",
       "8                                    0                                     0   \n",
       "14                                   0                                     0   \n",
       "15                                   0                                     0   \n",
       "\n",
       "    Type of Infertility -Couple Primary  ...  Stimulation used  Egg Source  \\\n",
       "1                                     0  ...                 1     Patient   \n",
       "2                                     0  ...                 1     Patient   \n",
       "8                                     0  ...                 1     Patient   \n",
       "14                                    0  ...                 1     Patient   \n",
       "15                                    0  ...                 1     Patient   \n",
       "\n",
       "    Sperm From  Fresh Cycle  Frozen Cycle  Eggs Thawed  Fresh Eggs Collected  \\\n",
       "1      Partner          1.0           0.0          0.0                     4   \n",
       "2      Partner          1.0           0.0          0.0                    12   \n",
       "8      Partner          1.0           0.0          0.0                    31   \n",
       "14     Partner          1.0           0.0          0.0                     8   \n",
       "15     Partner          1.0           0.0          0.0                    11   \n",
       "\n",
       "    Eggs Mixed With Partner Sperm  Embryos Transfered  Live Birth Occurrence  \n",
       "1                               3                 2.0                    0.0  \n",
       "2                               0                 0.0                    0.0  \n",
       "8                              13                 0.0                    0.0  \n",
       "14                              8                 0.0                    0.0  \n",
       "15                             11                 1.0                    0.0  \n",
       "\n",
       "[5 rows x 32 columns]"
      ]
     },
     "execution_count": 628,
     "metadata": {},
     "output_type": "execute_result"
    }
   ],
   "source": []
  },
  {
   "cell_type": "code",
   "execution_count": 632,
   "id": "cadc9bb0-c991-40e9-8cfe-da556142493a",
   "metadata": {},
   "outputs": [
    {
     "name": "stdout",
     "output_type": "stream",
     "text": [
      "Train DataFrame shape: (178743, 32)\n",
      "Test DataFrame shape: (19861, 32)\n"
     ]
    }
   ],
   "source": [
    "import pandas as pd\n",
    "from sklearn.model_selection import train_test_split\n",
    "\n",
    "# 데이터프레임 로드 (이미 로드되어 있다고 가정)\n",
    "# df = pd.read_csv('your_file.csv')\n",
    "\n",
    "# 데이터를 9:1 비율로 훈련 데이터와 테스트 데이터로 분리\n",
    "train_df, test_df = train_test_split(df, test_size=0.1, random_state=42)  # test_size=0.1은 전체 데이터의 10%를 테스트 데이터로 설정\n",
    "\n",
    "# 훈련 데이터와 테스트 데이터의 shape 확인\n",
    "print(\"Train DataFrame shape:\", train_df.shape)\n",
    "print(\"Test DataFrame shape:\", test_df.shape)\n"
   ]
  },
  {
   "cell_type": "code",
   "execution_count": 636,
   "id": "5a8832fd-b11f-47e5-b2c1-342ff354ee31",
   "metadata": {},
   "outputs": [],
   "source": [
    "import pandas as pd\n",
    "from sklearn.model_selection import train_test_split\n",
    "from sklearn.ensemble import RandomForestClassifier\n",
    "from sklearn.metrics import f1_score, classification_report\n"
   ]
  },
  {
   "cell_type": "code",
   "execution_count": 704,
   "id": "3b703a22-7896-44c7-b38b-a1bfaca3a309",
   "metadata": {},
   "outputs": [],
   "source": [
    "\n",
    "# 'Live Birth Occurrence' 열이 타겟 변수입니다. 이를 y로 설정합니다.\n",
    "X = df.drop('Live Birth Occurrence', axis=1)  # 타겟 변수를 제외한 나머지 데이터\n",
    "y = df['Live Birth Occurrence']  # 타겟 변수\n",
    "\n",
    "# 데이터를 훈련 세트와 테스트 세트로 분할\n",
    "X_train, X_test, y_train, y_test = train_test_split(X, y, test_size=0.2, random_state=42)\n"
   ]
  },
  {
   "cell_type": "code",
   "execution_count": 712,
   "id": "5c8c472e-fb84-4252-868f-d48ad6649c98",
   "metadata": {},
   "outputs": [
    {
     "data": {
      "text/html": [
       "<style>#sk-container-id-4 {\n",
       "  /* Definition of color scheme common for light and dark mode */\n",
       "  --sklearn-color-text: black;\n",
       "  --sklearn-color-line: gray;\n",
       "  /* Definition of color scheme for unfitted estimators */\n",
       "  --sklearn-color-unfitted-level-0: #fff5e6;\n",
       "  --sklearn-color-unfitted-level-1: #f6e4d2;\n",
       "  --sklearn-color-unfitted-level-2: #ffe0b3;\n",
       "  --sklearn-color-unfitted-level-3: chocolate;\n",
       "  /* Definition of color scheme for fitted estimators */\n",
       "  --sklearn-color-fitted-level-0: #f0f8ff;\n",
       "  --sklearn-color-fitted-level-1: #d4ebff;\n",
       "  --sklearn-color-fitted-level-2: #b3dbfd;\n",
       "  --sklearn-color-fitted-level-3: cornflowerblue;\n",
       "\n",
       "  /* Specific color for light theme */\n",
       "  --sklearn-color-text-on-default-background: var(--sg-text-color, var(--theme-code-foreground, var(--jp-content-font-color1, black)));\n",
       "  --sklearn-color-background: var(--sg-background-color, var(--theme-background, var(--jp-layout-color0, white)));\n",
       "  --sklearn-color-border-box: var(--sg-text-color, var(--theme-code-foreground, var(--jp-content-font-color1, black)));\n",
       "  --sklearn-color-icon: #696969;\n",
       "\n",
       "  @media (prefers-color-scheme: dark) {\n",
       "    /* Redefinition of color scheme for dark theme */\n",
       "    --sklearn-color-text-on-default-background: var(--sg-text-color, var(--theme-code-foreground, var(--jp-content-font-color1, white)));\n",
       "    --sklearn-color-background: var(--sg-background-color, var(--theme-background, var(--jp-layout-color0, #111)));\n",
       "    --sklearn-color-border-box: var(--sg-text-color, var(--theme-code-foreground, var(--jp-content-font-color1, white)));\n",
       "    --sklearn-color-icon: #878787;\n",
       "  }\n",
       "}\n",
       "\n",
       "#sk-container-id-4 {\n",
       "  color: var(--sklearn-color-text);\n",
       "}\n",
       "\n",
       "#sk-container-id-4 pre {\n",
       "  padding: 0;\n",
       "}\n",
       "\n",
       "#sk-container-id-4 input.sk-hidden--visually {\n",
       "  border: 0;\n",
       "  clip: rect(1px 1px 1px 1px);\n",
       "  clip: rect(1px, 1px, 1px, 1px);\n",
       "  height: 1px;\n",
       "  margin: -1px;\n",
       "  overflow: hidden;\n",
       "  padding: 0;\n",
       "  position: absolute;\n",
       "  width: 1px;\n",
       "}\n",
       "\n",
       "#sk-container-id-4 div.sk-dashed-wrapped {\n",
       "  border: 1px dashed var(--sklearn-color-line);\n",
       "  margin: 0 0.4em 0.5em 0.4em;\n",
       "  box-sizing: border-box;\n",
       "  padding-bottom: 0.4em;\n",
       "  background-color: var(--sklearn-color-background);\n",
       "}\n",
       "\n",
       "#sk-container-id-4 div.sk-container {\n",
       "  /* jupyter's `normalize.less` sets `[hidden] { display: none; }`\n",
       "     but bootstrap.min.css set `[hidden] { display: none !important; }`\n",
       "     so we also need the `!important` here to be able to override the\n",
       "     default hidden behavior on the sphinx rendered scikit-learn.org.\n",
       "     See: https://github.com/scikit-learn/scikit-learn/issues/21755 */\n",
       "  display: inline-block !important;\n",
       "  position: relative;\n",
       "}\n",
       "\n",
       "#sk-container-id-4 div.sk-text-repr-fallback {\n",
       "  display: none;\n",
       "}\n",
       "\n",
       "div.sk-parallel-item,\n",
       "div.sk-serial,\n",
       "div.sk-item {\n",
       "  /* draw centered vertical line to link estimators */\n",
       "  background-image: linear-gradient(var(--sklearn-color-text-on-default-background), var(--sklearn-color-text-on-default-background));\n",
       "  background-size: 2px 100%;\n",
       "  background-repeat: no-repeat;\n",
       "  background-position: center center;\n",
       "}\n",
       "\n",
       "/* Parallel-specific style estimator block */\n",
       "\n",
       "#sk-container-id-4 div.sk-parallel-item::after {\n",
       "  content: \"\";\n",
       "  width: 100%;\n",
       "  border-bottom: 2px solid var(--sklearn-color-text-on-default-background);\n",
       "  flex-grow: 1;\n",
       "}\n",
       "\n",
       "#sk-container-id-4 div.sk-parallel {\n",
       "  display: flex;\n",
       "  align-items: stretch;\n",
       "  justify-content: center;\n",
       "  background-color: var(--sklearn-color-background);\n",
       "  position: relative;\n",
       "}\n",
       "\n",
       "#sk-container-id-4 div.sk-parallel-item {\n",
       "  display: flex;\n",
       "  flex-direction: column;\n",
       "}\n",
       "\n",
       "#sk-container-id-4 div.sk-parallel-item:first-child::after {\n",
       "  align-self: flex-end;\n",
       "  width: 50%;\n",
       "}\n",
       "\n",
       "#sk-container-id-4 div.sk-parallel-item:last-child::after {\n",
       "  align-self: flex-start;\n",
       "  width: 50%;\n",
       "}\n",
       "\n",
       "#sk-container-id-4 div.sk-parallel-item:only-child::after {\n",
       "  width: 0;\n",
       "}\n",
       "\n",
       "/* Serial-specific style estimator block */\n",
       "\n",
       "#sk-container-id-4 div.sk-serial {\n",
       "  display: flex;\n",
       "  flex-direction: column;\n",
       "  align-items: center;\n",
       "  background-color: var(--sklearn-color-background);\n",
       "  padding-right: 1em;\n",
       "  padding-left: 1em;\n",
       "}\n",
       "\n",
       "\n",
       "/* Toggleable style: style used for estimator/Pipeline/ColumnTransformer box that is\n",
       "clickable and can be expanded/collapsed.\n",
       "- Pipeline and ColumnTransformer use this feature and define the default style\n",
       "- Estimators will overwrite some part of the style using the `sk-estimator` class\n",
       "*/\n",
       "\n",
       "/* Pipeline and ColumnTransformer style (default) */\n",
       "\n",
       "#sk-container-id-4 div.sk-toggleable {\n",
       "  /* Default theme specific background. It is overwritten whether we have a\n",
       "  specific estimator or a Pipeline/ColumnTransformer */\n",
       "  background-color: var(--sklearn-color-background);\n",
       "}\n",
       "\n",
       "/* Toggleable label */\n",
       "#sk-container-id-4 label.sk-toggleable__label {\n",
       "  cursor: pointer;\n",
       "  display: block;\n",
       "  width: 100%;\n",
       "  margin-bottom: 0;\n",
       "  padding: 0.5em;\n",
       "  box-sizing: border-box;\n",
       "  text-align: center;\n",
       "}\n",
       "\n",
       "#sk-container-id-4 label.sk-toggleable__label-arrow:before {\n",
       "  /* Arrow on the left of the label */\n",
       "  content: \"▸\";\n",
       "  float: left;\n",
       "  margin-right: 0.25em;\n",
       "  color: var(--sklearn-color-icon);\n",
       "}\n",
       "\n",
       "#sk-container-id-4 label.sk-toggleable__label-arrow:hover:before {\n",
       "  color: var(--sklearn-color-text);\n",
       "}\n",
       "\n",
       "/* Toggleable content - dropdown */\n",
       "\n",
       "#sk-container-id-4 div.sk-toggleable__content {\n",
       "  max-height: 0;\n",
       "  max-width: 0;\n",
       "  overflow: hidden;\n",
       "  text-align: left;\n",
       "  /* unfitted */\n",
       "  background-color: var(--sklearn-color-unfitted-level-0);\n",
       "}\n",
       "\n",
       "#sk-container-id-4 div.sk-toggleable__content.fitted {\n",
       "  /* fitted */\n",
       "  background-color: var(--sklearn-color-fitted-level-0);\n",
       "}\n",
       "\n",
       "#sk-container-id-4 div.sk-toggleable__content pre {\n",
       "  margin: 0.2em;\n",
       "  border-radius: 0.25em;\n",
       "  color: var(--sklearn-color-text);\n",
       "  /* unfitted */\n",
       "  background-color: var(--sklearn-color-unfitted-level-0);\n",
       "}\n",
       "\n",
       "#sk-container-id-4 div.sk-toggleable__content.fitted pre {\n",
       "  /* unfitted */\n",
       "  background-color: var(--sklearn-color-fitted-level-0);\n",
       "}\n",
       "\n",
       "#sk-container-id-4 input.sk-toggleable__control:checked~div.sk-toggleable__content {\n",
       "  /* Expand drop-down */\n",
       "  max-height: 200px;\n",
       "  max-width: 100%;\n",
       "  overflow: auto;\n",
       "}\n",
       "\n",
       "#sk-container-id-4 input.sk-toggleable__control:checked~label.sk-toggleable__label-arrow:before {\n",
       "  content: \"▾\";\n",
       "}\n",
       "\n",
       "/* Pipeline/ColumnTransformer-specific style */\n",
       "\n",
       "#sk-container-id-4 div.sk-label input.sk-toggleable__control:checked~label.sk-toggleable__label {\n",
       "  color: var(--sklearn-color-text);\n",
       "  background-color: var(--sklearn-color-unfitted-level-2);\n",
       "}\n",
       "\n",
       "#sk-container-id-4 div.sk-label.fitted input.sk-toggleable__control:checked~label.sk-toggleable__label {\n",
       "  background-color: var(--sklearn-color-fitted-level-2);\n",
       "}\n",
       "\n",
       "/* Estimator-specific style */\n",
       "\n",
       "/* Colorize estimator box */\n",
       "#sk-container-id-4 div.sk-estimator input.sk-toggleable__control:checked~label.sk-toggleable__label {\n",
       "  /* unfitted */\n",
       "  background-color: var(--sklearn-color-unfitted-level-2);\n",
       "}\n",
       "\n",
       "#sk-container-id-4 div.sk-estimator.fitted input.sk-toggleable__control:checked~label.sk-toggleable__label {\n",
       "  /* fitted */\n",
       "  background-color: var(--sklearn-color-fitted-level-2);\n",
       "}\n",
       "\n",
       "#sk-container-id-4 div.sk-label label.sk-toggleable__label,\n",
       "#sk-container-id-4 div.sk-label label {\n",
       "  /* The background is the default theme color */\n",
       "  color: var(--sklearn-color-text-on-default-background);\n",
       "}\n",
       "\n",
       "/* On hover, darken the color of the background */\n",
       "#sk-container-id-4 div.sk-label:hover label.sk-toggleable__label {\n",
       "  color: var(--sklearn-color-text);\n",
       "  background-color: var(--sklearn-color-unfitted-level-2);\n",
       "}\n",
       "\n",
       "/* Label box, darken color on hover, fitted */\n",
       "#sk-container-id-4 div.sk-label.fitted:hover label.sk-toggleable__label.fitted {\n",
       "  color: var(--sklearn-color-text);\n",
       "  background-color: var(--sklearn-color-fitted-level-2);\n",
       "}\n",
       "\n",
       "/* Estimator label */\n",
       "\n",
       "#sk-container-id-4 div.sk-label label {\n",
       "  font-family: monospace;\n",
       "  font-weight: bold;\n",
       "  display: inline-block;\n",
       "  line-height: 1.2em;\n",
       "}\n",
       "\n",
       "#sk-container-id-4 div.sk-label-container {\n",
       "  text-align: center;\n",
       "}\n",
       "\n",
       "/* Estimator-specific */\n",
       "#sk-container-id-4 div.sk-estimator {\n",
       "  font-family: monospace;\n",
       "  border: 1px dotted var(--sklearn-color-border-box);\n",
       "  border-radius: 0.25em;\n",
       "  box-sizing: border-box;\n",
       "  margin-bottom: 0.5em;\n",
       "  /* unfitted */\n",
       "  background-color: var(--sklearn-color-unfitted-level-0);\n",
       "}\n",
       "\n",
       "#sk-container-id-4 div.sk-estimator.fitted {\n",
       "  /* fitted */\n",
       "  background-color: var(--sklearn-color-fitted-level-0);\n",
       "}\n",
       "\n",
       "/* on hover */\n",
       "#sk-container-id-4 div.sk-estimator:hover {\n",
       "  /* unfitted */\n",
       "  background-color: var(--sklearn-color-unfitted-level-2);\n",
       "}\n",
       "\n",
       "#sk-container-id-4 div.sk-estimator.fitted:hover {\n",
       "  /* fitted */\n",
       "  background-color: var(--sklearn-color-fitted-level-2);\n",
       "}\n",
       "\n",
       "/* Specification for estimator info (e.g. \"i\" and \"?\") */\n",
       "\n",
       "/* Common style for \"i\" and \"?\" */\n",
       "\n",
       ".sk-estimator-doc-link,\n",
       "a:link.sk-estimator-doc-link,\n",
       "a:visited.sk-estimator-doc-link {\n",
       "  float: right;\n",
       "  font-size: smaller;\n",
       "  line-height: 1em;\n",
       "  font-family: monospace;\n",
       "  background-color: var(--sklearn-color-background);\n",
       "  border-radius: 1em;\n",
       "  height: 1em;\n",
       "  width: 1em;\n",
       "  text-decoration: none !important;\n",
       "  margin-left: 1ex;\n",
       "  /* unfitted */\n",
       "  border: var(--sklearn-color-unfitted-level-1) 1pt solid;\n",
       "  color: var(--sklearn-color-unfitted-level-1);\n",
       "}\n",
       "\n",
       ".sk-estimator-doc-link.fitted,\n",
       "a:link.sk-estimator-doc-link.fitted,\n",
       "a:visited.sk-estimator-doc-link.fitted {\n",
       "  /* fitted */\n",
       "  border: var(--sklearn-color-fitted-level-1) 1pt solid;\n",
       "  color: var(--sklearn-color-fitted-level-1);\n",
       "}\n",
       "\n",
       "/* On hover */\n",
       "div.sk-estimator:hover .sk-estimator-doc-link:hover,\n",
       ".sk-estimator-doc-link:hover,\n",
       "div.sk-label-container:hover .sk-estimator-doc-link:hover,\n",
       ".sk-estimator-doc-link:hover {\n",
       "  /* unfitted */\n",
       "  background-color: var(--sklearn-color-unfitted-level-3);\n",
       "  color: var(--sklearn-color-background);\n",
       "  text-decoration: none;\n",
       "}\n",
       "\n",
       "div.sk-estimator.fitted:hover .sk-estimator-doc-link.fitted:hover,\n",
       ".sk-estimator-doc-link.fitted:hover,\n",
       "div.sk-label-container:hover .sk-estimator-doc-link.fitted:hover,\n",
       ".sk-estimator-doc-link.fitted:hover {\n",
       "  /* fitted */\n",
       "  background-color: var(--sklearn-color-fitted-level-3);\n",
       "  color: var(--sklearn-color-background);\n",
       "  text-decoration: none;\n",
       "}\n",
       "\n",
       "/* Span, style for the box shown on hovering the info icon */\n",
       ".sk-estimator-doc-link span {\n",
       "  display: none;\n",
       "  z-index: 9999;\n",
       "  position: relative;\n",
       "  font-weight: normal;\n",
       "  right: .2ex;\n",
       "  padding: .5ex;\n",
       "  margin: .5ex;\n",
       "  width: min-content;\n",
       "  min-width: 20ex;\n",
       "  max-width: 50ex;\n",
       "  color: var(--sklearn-color-text);\n",
       "  box-shadow: 2pt 2pt 4pt #999;\n",
       "  /* unfitted */\n",
       "  background: var(--sklearn-color-unfitted-level-0);\n",
       "  border: .5pt solid var(--sklearn-color-unfitted-level-3);\n",
       "}\n",
       "\n",
       ".sk-estimator-doc-link.fitted span {\n",
       "  /* fitted */\n",
       "  background: var(--sklearn-color-fitted-level-0);\n",
       "  border: var(--sklearn-color-fitted-level-3);\n",
       "}\n",
       "\n",
       ".sk-estimator-doc-link:hover span {\n",
       "  display: block;\n",
       "}\n",
       "\n",
       "/* \"?\"-specific style due to the `<a>` HTML tag */\n",
       "\n",
       "#sk-container-id-4 a.estimator_doc_link {\n",
       "  float: right;\n",
       "  font-size: 1rem;\n",
       "  line-height: 1em;\n",
       "  font-family: monospace;\n",
       "  background-color: var(--sklearn-color-background);\n",
       "  border-radius: 1rem;\n",
       "  height: 1rem;\n",
       "  width: 1rem;\n",
       "  text-decoration: none;\n",
       "  /* unfitted */\n",
       "  color: var(--sklearn-color-unfitted-level-1);\n",
       "  border: var(--sklearn-color-unfitted-level-1) 1pt solid;\n",
       "}\n",
       "\n",
       "#sk-container-id-4 a.estimator_doc_link.fitted {\n",
       "  /* fitted */\n",
       "  border: var(--sklearn-color-fitted-level-1) 1pt solid;\n",
       "  color: var(--sklearn-color-fitted-level-1);\n",
       "}\n",
       "\n",
       "/* On hover */\n",
       "#sk-container-id-4 a.estimator_doc_link:hover {\n",
       "  /* unfitted */\n",
       "  background-color: var(--sklearn-color-unfitted-level-3);\n",
       "  color: var(--sklearn-color-background);\n",
       "  text-decoration: none;\n",
       "}\n",
       "\n",
       "#sk-container-id-4 a.estimator_doc_link.fitted:hover {\n",
       "  /* fitted */\n",
       "  background-color: var(--sklearn-color-fitted-level-3);\n",
       "}\n",
       "</style><div id=\"sk-container-id-4\" class=\"sk-top-container\"><div class=\"sk-text-repr-fallback\"><pre>RandomForestClassifier(n_estimators=1000, random_state=42)</pre><b>In a Jupyter environment, please rerun this cell to show the HTML representation or trust the notebook. <br />On GitHub, the HTML representation is unable to render, please try loading this page with nbviewer.org.</b></div><div class=\"sk-container\" hidden><div class=\"sk-item\"><div class=\"sk-estimator fitted sk-toggleable\"><input class=\"sk-toggleable__control sk-hidden--visually\" id=\"sk-estimator-id-4\" type=\"checkbox\" checked><label for=\"sk-estimator-id-4\" class=\"sk-toggleable__label fitted sk-toggleable__label-arrow fitted\">&nbsp;&nbsp;RandomForestClassifier<a class=\"sk-estimator-doc-link fitted\" rel=\"noreferrer\" target=\"_blank\" href=\"https://scikit-learn.org/1.5/modules/generated/sklearn.ensemble.RandomForestClassifier.html\">?<span>Documentation for RandomForestClassifier</span></a><span class=\"sk-estimator-doc-link fitted\">i<span>Fitted</span></span></label><div class=\"sk-toggleable__content fitted\"><pre>RandomForestClassifier(n_estimators=1000, random_state=42)</pre></div> </div></div></div></div>"
      ],
      "text/plain": [
       "RandomForestClassifier(n_estimators=1000, random_state=42)"
      ]
     },
     "execution_count": 712,
     "metadata": {},
     "output_type": "execute_result"
    }
   ],
   "source": [
    "# 랜덤 포레스트 모델 초기화 및 훈련\n",
    "model = RandomForestClassifier(n_estimators=1000, random_state=42)\n",
    "model.fit(X_train, y_train)\n"
   ]
  },
  {
   "cell_type": "code",
   "execution_count": 714,
   "id": "de3c721c-622f-498b-bc4f-0bdc5095d7f9",
   "metadata": {
    "scrolled": true
   },
   "outputs": [
    {
     "name": "stdout",
     "output_type": "stream",
     "text": [
      "F1-Score: 0.3119712738116974\n",
      "              precision    recall  f1-score   support\n",
      "\n",
      "           0       0.80      0.84      0.82     30642\n",
      "           1       0.35      0.28      0.31      9079\n",
      "\n",
      "    accuracy                           0.72     39721\n",
      "   macro avg       0.57      0.56      0.57     39721\n",
      "weighted avg       0.70      0.72      0.70     39721\n",
      "\n"
     ]
    }
   ],
   "source": [
    "# 테스트 데이터에 대한 예측 수행\n",
    "y_pred = model.predict(X_test)\n",
    "\n",
    "# 모델 성능 평가: F1-score 계산\n",
    "f1 = f1_score(y_test, y_pred, average='binary')  # 'binary' 옵션은 이진 분류를 가정합니다. 다중 클래스의 경우 'macro', 'micro', 'weighted'를 고려하세요.\n",
    "print(f\"F1-Score: {f1}\")\n",
    "print(classification_report(y_test, y_pred))\n"
   ]
  },
  {
   "cell_type": "code",
   "execution_count": 688,
   "id": "d81cb055-39f7-437d-9f98-eb062e05cd6f",
   "metadata": {},
   "outputs": [
    {
     "data": {
      "text/plain": [
       "array(['3', '0', '13', '8', '11', '10', '7', '1', '4', '6', '12', '5',\n",
       "       '16', '9', '33', '2', '14', '17', '24', '15', '23', '19', '18',\n",
       "       '21', '20', '22', '25', '26', '27', '> 50', '28', '38', '34', '30',\n",
       "       '29', '36', '37', '31', '43', '32', '42', '46', '35', '45', 14, 0,\n",
       "       3, 9, 8, 17, 7, 5, 12, 2, 6, 4, 15, 13, 10, 1, 11, 16, 18, 20, 26,\n",
       "       22, 21, 24, 19, 25, 30, 32, 29, 38, 28, 35, 23, 36, 37, 41, 27, 48,\n",
       "       31, 39, 40, 33, 34, 49, 44, 42, 43, 46, 47, '39', '40', '49', '41',\n",
       "       50, '47', '44', '48'], dtype=object)"
      ]
     },
     "execution_count": 688,
     "metadata": {},
     "output_type": "execute_result"
    }
   ],
   "source": [
    "df['Eggs Mixed With Partner Sperm'].unique()"
   ]
  },
  {
   "cell_type": "code",
   "execution_count": 660,
   "id": "92045bc5-2f33-4b47-96b2-7aff49007a43",
   "metadata": {},
   "outputs": [
    {
     "name": "stderr",
     "output_type": "stream",
     "text": [
      "/var/folders/t0/gccsxj_j0nggb15blb8q8h900000gn/T/ipykernel_10391/130722799.py:2: FutureWarning:\n",
      "\n",
      "Downcasting behavior in `replace` is deprecated and will be removed in a future version. To retain the old behavior, explicitly call `result.infer_objects(copy=False)`. To opt-in to the future behavior, set `pd.set_option('future.no_silent_downcasting', True)`\n",
      "\n"
     ]
    }
   ],
   "source": [
    "# '5>=' 값을 10으로 변경\n",
    "df['Egg Source'] = df['Egg Source'].replace('Patient', 1)\n",
    "df['Sperm From'] = df['Egg Source'].replace('Partner', 1)"
   ]
  },
  {
   "cell_type": "code",
   "execution_count": 690,
   "id": "0a72e768-a164-4ee7-bcd1-ee91143c90ce",
   "metadata": {},
   "outputs": [],
   "source": [
    "# '5>=' 값을 10으로 변경\n",
    "df['Eggs Mixed With Partner Sperm'] = df['Eggs Mixed With Partner Sperm'].replace('> 50', 60)\n"
   ]
  },
  {
   "cell_type": "code",
   "execution_count": 702,
   "id": "87bc073d-b8a6-4127-8c29-d43c1d0d6480",
   "metadata": {},
   "outputs": [],
   "source": [
    "\n",
    "df['Live Birth Occurrence'] = df['Live Birth Occurrence'].apply(lambda x: 1 if x >= 1 else 0)\n",
    "\n"
   ]
  },
  {
   "cell_type": "code",
   "execution_count": 710,
   "id": "b88714aa-692d-4d21-b685-3c9cd7113311",
   "metadata": {},
   "outputs": [
    {
     "data": {
      "text/plain": [
       "array([0, 1])"
      ]
     },
     "execution_count": 710,
     "metadata": {},
     "output_type": "execute_result"
    }
   ],
   "source": [
    "df['Live Birth Occurrence'].unique()"
   ]
  },
  {
   "cell_type": "code",
   "execution_count": null,
   "id": "251919b2-94c1-4e28-a231-af903258de0e",
   "metadata": {},
   "outputs": [
    {
     "name": "stdout",
     "output_type": "stream",
     "text": [
      "Fitting 3 folds for each of 162 candidates, totalling 486 fits\n"
     ]
    }
   ],
   "source": [
    "from sklearn.ensemble import RandomForestClassifier\n",
    "from sklearn.model_selection import GridSearchCV\n",
    "\n",
    "# 모델 초기화\n",
    "rf = RandomForestClassifier()\n",
    "\n",
    "# 하이퍼파라미터 그리드 설정\n",
    "param_grid = {\n",
    "    'n_estimators': [100, 200, 300],\n",
    "    'max_depth': [10, 20, 30],\n",
    "    'min_samples_split': [2, 5, 10],\n",
    "    'min_samples_leaf': [1, 2, 4],\n",
    "    'bootstrap': [True, False]\n",
    "}\n",
    "\n",
    "# GridSearchCV 설정\n",
    "grid_search = GridSearchCV(estimator=rf, param_grid=param_grid, cv=3, n_jobs=-1, verbose=2)\n",
    "\n",
    "# 그리드 서치 실행\n",
    "grid_search.fit(X_train, y_train)\n",
    "\n",
    "# 최적의 파라미터 출력\n",
    "print(\"Best parameters:\", grid_search.best_params_)\n"
   ]
  },
  {
   "cell_type": "code",
   "execution_count": null,
   "id": "4210b6f5-a5c9-46a7-8cef-9697f0ff6750",
   "metadata": {},
   "outputs": [],
   "source": [
    "# 테스트 데이터에 대한 예측 수행\n",
    "y_pred = model.predict(X_test)\n",
    "\n",
    "# 모델 성능 평가: F1-score 계산\n",
    "f1 = f1_score(y_test, y_pred, average='binary')  # 'binary' 옵션은 이진 분류를 가정합니다. 다중 클래스의 경우 'macro', 'micro', 'weighted'를 고려하세요.\n",
    "print(f\"F1-Score: {f1}\")\n",
    "print(classification_report(y_test, y_pred))\n"
   ]
  },
  {
   "cell_type": "code",
   "execution_count": null,
   "id": "5ee6ba18-00b9-44b0-a2db-3b0a33b50613",
   "metadata": {},
   "outputs": [],
   "source": [
    "# 테스트 데이터의 예측 확률\n",
    "y_pred_proba = model.predict_proba(X_test)[:, 1]  # 1 클래스에 대한 확률\n",
    "\n",
    "# ROC AUC 점수 계산\n",
    "roc_auc = roc_auc_score(y_test, y_pred_proba)\n",
    "print(f\"ROC AUC Score: {roc_auc:.2%}\")\n"
   ]
  }
 ],
 "metadata": {
  "kernelspec": {
   "display_name": "Python [conda env:base] *",
   "language": "python",
   "name": "conda-base-py"
  },
  "language_info": {
   "codemirror_mode": {
    "name": "ipython",
    "version": 3
   },
   "file_extension": ".py",
   "mimetype": "text/x-python",
   "name": "python",
   "nbconvert_exporter": "python",
   "pygments_lexer": "ipython3",
   "version": "3.12.7"
  }
 },
 "nbformat": 4,
 "nbformat_minor": 5
}
